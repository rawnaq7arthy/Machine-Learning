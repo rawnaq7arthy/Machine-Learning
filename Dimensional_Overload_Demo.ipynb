{
 "cells": [
  {
   "cell_type": "code",
   "execution_count": 1,
   "id": "a9a1f930-9e96-4914-9d38-3ae91413a64b",
   "metadata": {},
   "outputs": [],
   "source": [
    "import numpy as np\n",
    "import plotly.express as px\n",
    "import plotly.graph_objects as go\n",
    "from scipy.spatial.distance import pdist\n",
    "\n",
    "import plotly.io as pio\n",
    "pio.renderers.default = 'iframe'"
   ]
  },
  {
   "cell_type": "code",
   "execution_count": 3,
   "id": "40977e27-03ea-4b2d-a12c-4d0ac0165f25",
   "metadata": {},
   "outputs": [],
   "source": [
    "np.random.seed(7)  # Changed seed for different random values\n",
    "\n",
    "dimensions = [5, 8, 20, 60, 120]  # Changed dimension values\n",
    "n_samples = 500  # Changed number of samples\n",
    "\n",
    "datasets = {}\n",
    "for dim in dimensions:\n",
    "    datasets[dim] = np.random.uniform(0, 1, size=(n_samples, dim))"
   ]
  },
  {
   "cell_type": "code",
   "execution_count": 7,
   "id": "83c0bf76-a931-411e-b4aa-ee16368bc1a8",
   "metadata": {},
   "outputs": [
    {
     "data": {
      "text/html": [
       "<iframe\n",
       "    scrolling=\"no\"\n",
       "    width=\"100%\"\n",
       "    height=\"545px\"\n",
       "    src=\"iframe_figures/figure_7.html\"\n",
       "    frameborder=\"0\"\n",
       "    allowfullscreen\n",
       "></iframe>\n"
      ]
     },
     "metadata": {},
     "output_type": "display_data"
    }
   ],
   "source": [
    "# 2D plot using first two dimensions of the 5D dataset\n",
    "fig_2d = px.scatter(\n",
    "    x=datasets[5][:, 0],\n",
    "    y=datasets[5][:, 1],\n",
    "    title=\"2D Plot (from 5D data)\",\n",
    "    labels={'x': 'Dimension 1', 'y': 'Dimension 2'}\n",
    ")\n",
    "fig_2d.show()"
   ]
  },
  {
   "cell_type": "code",
   "execution_count": 8,
   "id": "1aa4dfc6-d38e-4c72-9162-e0d0e5201b73",
   "metadata": {},
   "outputs": [
    {
     "data": {
      "text/html": [
       "<iframe\n",
       "    scrolling=\"no\"\n",
       "    width=\"100%\"\n",
       "    height=\"545px\"\n",
       "    src=\"iframe_figures/figure_8.html\"\n",
       "    frameborder=\"0\"\n",
       "    allowfullscreen\n",
       "></iframe>\n"
      ]
     },
     "metadata": {},
     "output_type": "display_data"
    }
   ],
   "source": [
    "import plotly.express as px\n",
    "\n",
    "# 3D plot using first three dimensions of the 8D dataset\n",
    "fig_3d = px.scatter_3d(\n",
    "    x=datasets[8][:, 0],\n",
    "    y=datasets[8][:, 1],\n",
    "    z=datasets[8][:, 2],\n",
    "    title=\"3D Plot (from 8D data)\",\n",
    "    labels={'x': 'Dimension 1', 'y': 'Dimension 2', 'z': 'Dimension 3'}\n",
    ")\n",
    "fig_3d.show()\n"
   ]
  },
  {
   "cell_type": "code",
   "execution_count": 9,
   "id": "629a7f73-ff45-4f02-8c85-5ccbb6a42190",
   "metadata": {},
   "outputs": [
    {
     "data": {
      "text/html": [
       "<iframe\n",
       "    scrolling=\"no\"\n",
       "    width=\"100%\"\n",
       "    height=\"545px\"\n",
       "    src=\"iframe_figures/figure_9.html\"\n",
       "    frameborder=\"0\"\n",
       "    allowfullscreen\n",
       "></iframe>\n"
      ]
     },
     "metadata": {},
     "output_type": "display_data"
    }
   ],
   "source": [
    "from scipy.spatial.distance import pdist\n",
    "import plotly.graph_objects as go\n",
    "import plotly.express as px\n",
    "\n",
    "# Compute pairwise Euclidean distances for each dimensionality\n",
    "distance_distributions = {}\n",
    "for dim in dimensions:\n",
    "    dists = pdist(datasets[dim], metric='euclidean')\n",
    "    distance_distributions[dim] = dists\n",
    "\n",
    "# Plot histograms\n",
    "fig = go.Figure()\n",
    "colors = px.colors.qualitative.Plotly\n",
    "\n",
    "for i, dim in enumerate(dimensions):\n",
    "    fig.add_trace(go.Histogram(\n",
    "        x=distance_distributions[dim],\n",
    "        name=f\"{dim}D\",\n",
    "        opacity=0.6,\n",
    "        marker_color=colors[i % len(colors)],\n",
    "        nbinsx=50\n",
    "    ))\n",
    "\n",
    "fig.update_layout(\n",
    "    barmode='overlay',\n",
    "    title=\"Pairwise Euclidean Distance Across Dimensions\",\n",
    "    xaxis_title=\"Euclidean Distance\",\n",
    "    yaxis_title=\"Count\",\n",
    "    legend_title=\"Dimensions\"\n",
    ")\n",
    "\n",
    "fig.show()\n"
   ]
  }
 ],
 "metadata": {
  "kernelspec": {
   "display_name": "(03) Python 3.9 (TensorFlow)",
   "language": "python",
   "name": "py39_tensorflow"
  },
  "language_info": {
   "codemirror_mode": {
    "name": "ipython",
    "version": 3
   },
   "file_extension": ".py",
   "mimetype": "text/x-python",
   "name": "python",
   "nbconvert_exporter": "python",
   "pygments_lexer": "ipython3",
   "version": "3.9.23"
  }
 },
 "nbformat": 4,
 "nbformat_minor": 5
}
