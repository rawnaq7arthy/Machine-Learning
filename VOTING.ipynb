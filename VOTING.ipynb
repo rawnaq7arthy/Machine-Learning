{
 "cells": [
  {
   "cell_type": "code",
   "execution_count": 1,
   "id": "818fee58-abe9-4957-9d3e-055a741236f4",
   "metadata": {},
   "outputs": [],
   "source": [
    "from sklearn.model_selection import train_test_split\n",
    "from sklearn.datasets import make_classification\n",
    "import numpy as np\n",
    "\n",
    "from sklearn.ensemble import VotingClassifier\n",
    "from sklearn.linear_model import LogisticRegression\n",
    "from sklearn.tree import DecisionTreeClassifier\n",
    "\n",
    "from sklearn.metrics import accuracy_score"
   ]
  },
  {
   "cell_type": "code",
   "execution_count": 13,
   "id": "0f921785-e337-4030-834e-2ddc721b6788",
   "metadata": {},
   "outputs": [],
   "source": [
    "# Create a synthetic classification dataset\n",
    "X, y = make_classification(n_samples=150, n_features=4, n_informative=3,\n",
    "                           n_redundant=0, n_clusters_per_class=1,\n",
    "                           flip_y=0.15, class_sep=1.2, random_state=42)"
   ]
  },
  {
   "cell_type": "code",
   "execution_count": 14,
   "id": "1a93c0ac-c1f3-426a-a893-5251b8b09fdf",
   "metadata": {},
   "outputs": [],
   "source": [
    "# Split the dataset into training and testing sets\n",
    "X_train, X_test, y_train, y_test = train_test_split(X, y, test_size=0.3, random_state=42)"
   ]
  },
  {
   "cell_type": "code",
   "execution_count": 15,
   "id": "ccf8451f-82ce-41a4-99fa-08bf85dd58e6",
   "metadata": {},
   "outputs": [],
   "source": [
    "# Initialize classifiers with different parameters\n",
    "log_clf = LogisticRegression(solver='liblinear', C=0.5, penalty='l1')\n",
    "dt_clf = DecisionTreeClassifier(max_depth=5, criterion='entropy', random_state=42)"
   ]
  },
  {
   "cell_type": "code",
   "execution_count": 16,
   "id": "5944a9e7-0ff7-435e-bccf-de6e86308775",
   "metadata": {},
   "outputs": [],
   "source": [
    "# Create a voting classifier\n",
    "voting_clf = VotingClassifier(\n",
    "    estimators=[('LogReg', log_clf), ('DecisionTree', dt_clf)],\n",
    "    voting='hard'\n",
    ")"
   ]
  },
  {
   "cell_type": "code",
   "execution_count": 17,
   "id": "c241098f-fed8-44c4-96a7-378c539c9257",
   "metadata": {},
   "outputs": [
    {
     "name": "stdout",
     "output_type": "stream",
     "text": [
      "LogisticRegression Accuracy: 0.78\n",
      "DecisionTreeClassifier Accuracy: 0.71\n",
      "VotingClassifier Accuracy: 0.76\n"
     ]
    }
   ],
   "source": [
    "# Train and evaluate each classifier\n",
    "for clf in (log_clf, dt_clf, voting_clf):\n",
    "    clf.fit(X_train, y_train)\n",
    "    y_pred = clf.predict(X_test)\n",
    "    acc = accuracy_score(y_test, y_pred)\n",
    "    print(f\"{clf.__class__.__name__} Accuracy: {acc:.2f}\")"
   ]
  },
  {
   "cell_type": "code",
   "execution_count": null,
   "id": "e7e915ad-a29e-48dc-8929-8eab62f2076e",
   "metadata": {},
   "outputs": [],
   "source": []
  }
 ],
 "metadata": {
  "kernelspec": {
   "display_name": "(03) Python 3.9 (TensorFlow)",
   "language": "python",
   "name": "py39_tensorflow"
  },
  "language_info": {
   "codemirror_mode": {
    "name": "ipython",
    "version": 3
   },
   "file_extension": ".py",
   "mimetype": "text/x-python",
   "name": "python",
   "nbconvert_exporter": "python",
   "pygments_lexer": "ipython3",
   "version": "3.9.23"
  }
 },
 "nbformat": 4,
 "nbformat_minor": 5
}
