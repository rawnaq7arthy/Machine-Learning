{
 "cells": [
  {
   "cell_type": "code",
   "execution_count": 1,
   "id": "7f955ebd-a2b1-4148-bc26-17f92caaa197",
   "metadata": {},
   "outputs": [],
   "source": [
    "#gradient boosting, ensembling (with logistic regression), and basic hyperparameter tuning."
   ]
  },
  {
   "cell_type": "code",
   "execution_count": 2,
   "id": "58236760-7770-42ab-bde7-82c73117baac",
   "metadata": {},
   "outputs": [],
   "source": [
    "#Load data and make it binary\n",
    "\n",
    "from sklearn.datasets import load_iris\n",
    "from sklearn.model_selection import train_test_split\n",
    "\n",
    "# Load Iris and make it binary (setosa vs. not-setosa)\n",
    "iris = load_iris()\n",
    "X = iris.data\n",
    "y = (iris.target == 0).astype(int)  # Setosa = 1, others = 0\n",
    "\n",
    "X_train, X_test, y_train, y_test = train_test_split(X, y, test_size=0.3, random_state=42)\n"
   ]
  },
  {
   "cell_type": "code",
   "execution_count": 3,
   "id": "74e97559-c419-4dcf-b4e3-8b84b76131ef",
   "metadata": {},
   "outputs": [
    {
     "name": "stdout",
     "output_type": "stream",
     "text": [
      "GB test score: 1.0\n"
     ]
    }
   ],
   "source": [
    "#Gradient Boosting\n",
    "\n",
    "from sklearn.ensemble import GradientBoostingClassifier\n",
    "\n",
    "gb = GradientBoostingClassifier()\n",
    "gb.fit(X_train, y_train)\n",
    "print(\"GB test score:\", gb.score(X_test, y_test))\n"
   ]
  },
  {
   "cell_type": "code",
   "execution_count": 4,
   "id": "03f3f8d0-b416-422e-a186-c173e199d071",
   "metadata": {},
   "outputs": [
    {
     "name": "stdout",
     "output_type": "stream",
     "text": [
      "LR test score: 1.0\n"
     ]
    }
   ],
   "source": [
    "#Add another model for ensembling (Logistic Regression)\n",
    "\n",
    "from sklearn.linear_model import LogisticRegression\n",
    "\n",
    "lr = LogisticRegression()\n",
    "lr.fit(X_train, y_train)\n",
    "print(\"LR test score:\", lr.score(X_test, y_test))\n"
   ]
  },
  {
   "cell_type": "code",
   "execution_count": 5,
   "id": "7b870822-f4f3-480a-9c24-e937490e1039",
   "metadata": {},
   "outputs": [
    {
     "name": "stdout",
     "output_type": "stream",
     "text": [
      "Ensemble test score: 1.0\n"
     ]
    }
   ],
   "source": [
    "#Simple Ensemble (average probabilities)\n",
    "\n",
    "import numpy as np\n",
    "\n",
    "# Average predicted probabilities\n",
    "gb_proba = gb.predict_proba(X_test)[:, 1]\n",
    "lr_proba = lr.predict_proba(X_test)[:, 1]\n",
    "ensemble_proba = (gb_proba + lr_proba) / 2\n",
    "ensemble_pred = (ensemble_proba > 0.5).astype(int)\n",
    "\n",
    "from sklearn.metrics import accuracy_score\n",
    "print(\"Ensemble test score:\", accuracy_score(y_test, ensemble_pred))\n"
   ]
  },
  {
   "cell_type": "code",
   "execution_count": 6,
   "id": "b91342bf-6087-41cb-992a-31eb23ba9646",
   "metadata": {},
   "outputs": [
    {
     "name": "stdout",
     "output_type": "stream",
     "text": [
      "Best params: {'learning_rate': 0.05, 'n_estimators': 50}\n",
      "Tuned GB test score: 1.0\n"
     ]
    }
   ],
   "source": [
    "#Model Tuning (for Gradient Boosting)\n",
    "\n",
    "from sklearn.model_selection import GridSearchCV\n",
    "\n",
    "params = {'n_estimators': [50, 100], 'learning_rate': [0.05, 0.1]}\n",
    "grid = GridSearchCV(GradientBoostingClassifier(), params, cv=3)\n",
    "grid.fit(X_train, y_train)\n",
    "\n",
    "print(\"Best params:\", grid.best_params_)\n",
    "print(\"Tuned GB test score:\", grid.score(X_test, y_test))\n"
   ]
  }
 ],
 "metadata": {
  "kernelspec": {
   "display_name": "(00) Python 3.9 - ML",
   "language": "python",
   "name": "py39_ml"
  },
  "language_info": {
   "codemirror_mode": {
    "name": "ipython",
    "version": 3
   },
   "file_extension": ".py",
   "mimetype": "text/x-python",
   "name": "python",
   "nbconvert_exporter": "python",
   "pygments_lexer": "ipython3",
   "version": "3.9.23"
  }
 },
 "nbformat": 4,
 "nbformat_minor": 5
}
