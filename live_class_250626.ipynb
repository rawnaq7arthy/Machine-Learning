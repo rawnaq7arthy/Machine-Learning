{
 "cells": [
  {
   "cell_type": "markdown",
   "id": "299bf358-398a-48e3-a847-27af251bbee3",
   "metadata": {},
   "source": [
    "# High level steps to build a NN with Kers API\n",
    "1. Desing the model arch using tf.keras.Model --> Define the layers from tf.keras.layers\n",
    "2. Compile --> set loss and optimizer\n",
    "3. Fit (train)"
   ]
  },
  {
   "cell_type": "code",
   "execution_count": null,
   "id": "acb08067-e853-4981-b723-34aac7e6faca",
   "metadata": {},
   "outputs": [],
   "source": []
  },
  {
   "cell_type": "code",
   "execution_count": null,
   "id": "533734d8-78bc-45e7-b3f4-0d5956d15540",
   "metadata": {},
   "outputs": [],
   "source": []
  },
  {
   "cell_type": "code",
   "execution_count": 17,
   "id": "772eb6af-1caf-476a-98ac-f22b08e79f65",
   "metadata": {},
   "outputs": [],
   "source": [
    "import tensorflow as tf"
   ]
  },
  {
   "cell_type": "code",
   "execution_count": null,
   "id": "abc69e20-d640-464b-8e91-4a79746f3e84",
   "metadata": {},
   "outputs": [],
   "source": []
  },
  {
   "cell_type": "code",
   "execution_count": 18,
   "id": "b683fade-0dab-4512-9ac6-d50eb582e190",
   "metadata": {},
   "outputs": [],
   "source": [
    "X = tf.random.normal(shape=[100, 1])\n",
    "y = X*3+8.2"
   ]
  },
  {
   "cell_type": "code",
   "execution_count": 19,
   "id": "5a96253d-0c49-4bf3-b40c-22781666c8c4",
   "metadata": {},
   "outputs": [
    {
     "data": {
      "text/plain": [
       "(TensorShape([100, 1]), TensorShape([100, 1]))"
      ]
     },
     "execution_count": 19,
     "metadata": {},
     "output_type": "execute_result"
    }
   ],
   "source": [
    "X.shape, y.shape"
   ]
  },
  {
   "cell_type": "code",
   "execution_count": null,
   "id": "37a0729e-7fe7-4937-9d13-a72ce19b9f9b",
   "metadata": {},
   "outputs": [],
   "source": []
  },
  {
   "cell_type": "code",
   "execution_count": null,
   "id": "87877df6-3166-454c-af5d-36ec07035c24",
   "metadata": {},
   "outputs": [],
   "source": []
  },
  {
   "cell_type": "code",
   "execution_count": null,
   "id": "6d528b47-038b-45e3-8a5e-fb17219556d6",
   "metadata": {},
   "outputs": [],
   "source": []
  },
  {
   "cell_type": "code",
   "execution_count": 20,
   "id": "3b525810-cc39-4c39-8680-be1cac80b1e2",
   "metadata": {},
   "outputs": [],
   "source": [
    "# tf.keras.models, tf.keras.Model, tf.keras.models.Sequential()"
   ]
  },
  {
   "cell_type": "markdown",
   "id": "e5a2f18a-738c-405b-b5cd-7f92f345e13c",
   "metadata": {},
   "source": [
    "# Debuging a layer "
   ]
  },
  {
   "cell_type": "code",
   "execution_count": 21,
   "id": "e802221b-5dad-4992-b38e-de03dfca1e68",
   "metadata": {},
   "outputs": [],
   "source": [
    "# Define Dense layer outside the context of the model \n",
    "d = tf.keras.layers.Dense(2)"
   ]
  },
  {
   "cell_type": "code",
   "execution_count": 22,
   "id": "f554d23c-581d-4c3f-9347-a61e4ad385ab",
   "metadata": {},
   "outputs": [
    {
     "data": {
      "text/plain": [
       "[]"
      ]
     },
     "execution_count": 22,
     "metadata": {},
     "output_type": "execute_result"
    }
   ],
   "source": [
    "# Before invoking the layer\n",
    "d.weights"
   ]
  },
  {
   "cell_type": "code",
   "execution_count": 23,
   "id": "c02b2fae-e3d4-42e9-aac8-d676413fe34d",
   "metadata": {},
   "outputs": [],
   "source": [
    "out = d(X)"
   ]
  },
  {
   "cell_type": "code",
   "execution_count": 24,
   "id": "b7b296fb-1a57-43fb-aeaa-de7d5ae1b60a",
   "metadata": {},
   "outputs": [
    {
     "data": {
      "text/plain": [
       "TensorShape([100, 2])"
      ]
     },
     "execution_count": 24,
     "metadata": {},
     "output_type": "execute_result"
    }
   ],
   "source": [
    "out.shape"
   ]
  },
  {
   "cell_type": "code",
   "execution_count": null,
   "id": "8d6f2806-ae23-4934-9976-cddf1f947784",
   "metadata": {},
   "outputs": [],
   "source": []
  },
  {
   "cell_type": "code",
   "execution_count": 25,
   "id": "144ccf61-ccd6-44ef-8926-06bd5f53a9af",
   "metadata": {},
   "outputs": [
    {
     "data": {
      "text/plain": [
       "[<KerasVariable shape=(1, 2), dtype=float32, path=dense_1/kernel>,\n",
       " <KerasVariable shape=(2,), dtype=float32, path=dense_1/bias>]"
      ]
     },
     "execution_count": 25,
     "metadata": {},
     "output_type": "execute_result"
    }
   ],
   "source": [
    "d.weights"
   ]
  },
  {
   "cell_type": "code",
   "execution_count": 26,
   "id": "63dca7ad-dc96-4304-ae81-73124a2242f5",
   "metadata": {},
   "outputs": [
    {
     "data": {
      "text/plain": [
       "'\\nThe output of the weights:\\n[\\n   Weights,\\n   Bias\\n]\\n'"
      ]
     },
     "execution_count": 26,
     "metadata": {},
     "output_type": "execute_result"
    }
   ],
   "source": [
    "d.trainable_weights\n",
    "'''\n",
    "The output of the weights:\n",
    "[\n",
    "   Weights,\n",
    "   Bias\n",
    "]\n",
    "'''"
   ]
  },
  {
   "cell_type": "code",
   "execution_count": 27,
   "id": "8a9af6bd-42dd-4243-8906-c118dfeec4af",
   "metadata": {},
   "outputs": [
    {
     "data": {
      "text/plain": [
       "array([[-0.597237  , -0.18254304]], dtype=float32)"
      ]
     },
     "execution_count": 27,
     "metadata": {},
     "output_type": "execute_result"
    }
   ],
   "source": [
    "d.weights[0].numpy()"
   ]
  },
  {
   "cell_type": "code",
   "execution_count": 28,
   "id": "39e15f04-3973-4428-84ec-4aa5b8532eda",
   "metadata": {},
   "outputs": [
    {
     "data": {
      "text/plain": [
       "array([0., 0.], dtype=float32)"
      ]
     },
     "execution_count": 28,
     "metadata": {},
     "output_type": "execute_result"
    }
   ],
   "source": [
    "d.weights[1].numpy()"
   ]
  },
  {
   "cell_type": "code",
   "execution_count": 29,
   "id": "403c94ae-c32c-4691-90b5-ab3a3b8121df",
   "metadata": {},
   "outputs": [
    {
     "data": {
      "text/plain": [
       "<tf.Tensor: shape=(3, 1), dtype=float32, numpy=\n",
       "array([[ 1.353785 ],\n",
       "       [-0.6675659],\n",
       "       [-1.24024  ]], dtype=float32)>"
      ]
     },
     "execution_count": 29,
     "metadata": {},
     "output_type": "execute_result"
    }
   ],
   "source": [
    "X[:3]"
   ]
  },
  {
   "cell_type": "code",
   "execution_count": 30,
   "id": "d8946cb2-a819-4812-8d2d-c17164c84ef8",
   "metadata": {},
   "outputs": [
    {
     "data": {
      "text/plain": [
       "<tf.Tensor: shape=(3, 2), dtype=float32, numpy=\n",
       "array([[-0.8085305 , -0.24712403],\n",
       "       [ 0.39869505,  0.12185951],\n",
       "       [ 0.7407172 ,  0.22639717]], dtype=float32)>"
      ]
     },
     "execution_count": 30,
     "metadata": {},
     "output_type": "execute_result"
    }
   ],
   "source": [
    "out[:3]"
   ]
  },
  {
   "cell_type": "code",
   "execution_count": 31,
   "id": "1383312c-9cb1-4cea-a085-da9278a1f44e",
   "metadata": {},
   "outputs": [
    {
     "data": {
      "text/plain": [
       "<tf.Tensor: shape=(3, 2), dtype=float32, numpy=\n",
       "array([[-0.8085305 , -0.24712403],\n",
       "       [ 0.39869505,  0.12185951],\n",
       "       [ 0.7407172 ,  0.22639717]], dtype=float32)>"
      ]
     },
     "execution_count": 31,
     "metadata": {},
     "output_type": "execute_result"
    }
   ],
   "source": [
    "# The Linear Regression calcualtions inside the neuron for the first 3 itmes\n",
    "(X[:3] * d.weights[0].numpy()[:3]) + d.weights[1].numpy()[:3]"
   ]
  },
  {
   "cell_type": "code",
   "execution_count": null,
   "id": "5fad478a-c25b-40db-b212-cc5b0744d7fc",
   "metadata": {},
   "outputs": [],
   "source": []
  },
  {
   "cell_type": "markdown",
   "id": "82f6fabd-0210-4f8e-856c-a5470f7614fc",
   "metadata": {},
   "source": [
    "# Desing a NN arch\n",
    "\n"
   ]
  },
  {
   "cell_type": "code",
   "execution_count": 32,
   "id": "23c87fa0-e75d-4526-8ca6-63a679e08143",
   "metadata": {},
   "outputs": [],
   "source": [
    "#del model "
   ]
  },
  {
   "cell_type": "code",
   "execution_count": 33,
   "id": "7ceddf6b-7411-4c26-990e-86383fff67f6",
   "metadata": {},
   "outputs": [
    {
     "name": "stderr",
     "output_type": "stream",
     "text": [
      "/opt/conda/envs/py39_tensorflow/lib/python3.9/site-packages/keras/src/layers/core/dense.py:87: UserWarning: Do not pass an `input_shape`/`input_dim` argument to a layer. When using Sequential models, prefer using an `Input(shape)` object as the first layer in the model instead.\n",
      "  super().__init__(activity_regularizer=activity_regularizer, **kwargs)\n"
     ]
    }
   ],
   "source": [
    "model = tf.keras.models.Sequential([\n",
    "    # tf.keras.layers.Input --> this is one options \n",
    "    tf.keras.layers.Dense(20, input_shape=[1], activation=\"relu\"), # Low-level features will be extracted --> much more than high-level\n",
    "    tf.keras.layers.Dense(10, activation=\"relu\"), # High-level features will be extracted --> much less than low-level\n",
    "    tf.keras.layers.Dense(3, \n",
    "                          activation=\"sigmoid\"\n",
    "                         ), # The expected output \n",
    "])"
   ]
  },
  {
   "cell_type": "code",
   "execution_count": 34,
   "id": "55a5bf0c-13c5-4904-a729-81cbf729454b",
   "metadata": {},
   "outputs": [
    {
     "data": {
      "text/html": [
       "<pre style=\"white-space:pre;overflow-x:auto;line-height:normal;font-family:Menlo,'DejaVu Sans Mono',consolas,'Courier New',monospace\"><span style=\"font-weight: bold\">Model: \"sequential\"</span>\n",
       "</pre>\n"
      ],
      "text/plain": [
       "\u001b[1mModel: \"sequential\"\u001b[0m\n"
      ]
     },
     "metadata": {},
     "output_type": "display_data"
    },
    {
     "data": {
      "text/html": [
       "<pre style=\"white-space:pre;overflow-x:auto;line-height:normal;font-family:Menlo,'DejaVu Sans Mono',consolas,'Courier New',monospace\">┏━━━━━━━━━━━━━━━━━━━━━━━━━━━━━━━━━┳━━━━━━━━━━━━━━━━━━━━━━━━┳━━━━━━━━━━━━━━━┓\n",
       "┃<span style=\"font-weight: bold\"> Layer (type)                    </span>┃<span style=\"font-weight: bold\"> Output Shape           </span>┃<span style=\"font-weight: bold\">       Param # </span>┃\n",
       "┡━━━━━━━━━━━━━━━━━━━━━━━━━━━━━━━━━╇━━━━━━━━━━━━━━━━━━━━━━━━╇━━━━━━━━━━━━━━━┩\n",
       "│ dense_2 (<span style=\"color: #0087ff; text-decoration-color: #0087ff\">Dense</span>)                 │ (<span style=\"color: #00d7ff; text-decoration-color: #00d7ff\">None</span>, <span style=\"color: #00af00; text-decoration-color: #00af00\">20</span>)             │            <span style=\"color: #00af00; text-decoration-color: #00af00\">40</span> │\n",
       "├─────────────────────────────────┼────────────────────────┼───────────────┤\n",
       "│ dense_3 (<span style=\"color: #0087ff; text-decoration-color: #0087ff\">Dense</span>)                 │ (<span style=\"color: #00d7ff; text-decoration-color: #00d7ff\">None</span>, <span style=\"color: #00af00; text-decoration-color: #00af00\">10</span>)             │           <span style=\"color: #00af00; text-decoration-color: #00af00\">210</span> │\n",
       "├─────────────────────────────────┼────────────────────────┼───────────────┤\n",
       "│ dense_4 (<span style=\"color: #0087ff; text-decoration-color: #0087ff\">Dense</span>)                 │ (<span style=\"color: #00d7ff; text-decoration-color: #00d7ff\">None</span>, <span style=\"color: #00af00; text-decoration-color: #00af00\">3</span>)              │            <span style=\"color: #00af00; text-decoration-color: #00af00\">33</span> │\n",
       "└─────────────────────────────────┴────────────────────────┴───────────────┘\n",
       "</pre>\n"
      ],
      "text/plain": [
       "┏━━━━━━━━━━━━━━━━━━━━━━━━━━━━━━━━━┳━━━━━━━━━━━━━━━━━━━━━━━━┳━━━━━━━━━━━━━━━┓\n",
       "┃\u001b[1m \u001b[0m\u001b[1mLayer (type)                   \u001b[0m\u001b[1m \u001b[0m┃\u001b[1m \u001b[0m\u001b[1mOutput Shape          \u001b[0m\u001b[1m \u001b[0m┃\u001b[1m \u001b[0m\u001b[1m      Param #\u001b[0m\u001b[1m \u001b[0m┃\n",
       "┡━━━━━━━━━━━━━━━━━━━━━━━━━━━━━━━━━╇━━━━━━━━━━━━━━━━━━━━━━━━╇━━━━━━━━━━━━━━━┩\n",
       "│ dense_2 (\u001b[38;5;33mDense\u001b[0m)                 │ (\u001b[38;5;45mNone\u001b[0m, \u001b[38;5;34m20\u001b[0m)             │            \u001b[38;5;34m40\u001b[0m │\n",
       "├─────────────────────────────────┼────────────────────────┼───────────────┤\n",
       "│ dense_3 (\u001b[38;5;33mDense\u001b[0m)                 │ (\u001b[38;5;45mNone\u001b[0m, \u001b[38;5;34m10\u001b[0m)             │           \u001b[38;5;34m210\u001b[0m │\n",
       "├─────────────────────────────────┼────────────────────────┼───────────────┤\n",
       "│ dense_4 (\u001b[38;5;33mDense\u001b[0m)                 │ (\u001b[38;5;45mNone\u001b[0m, \u001b[38;5;34m3\u001b[0m)              │            \u001b[38;5;34m33\u001b[0m │\n",
       "└─────────────────────────────────┴────────────────────────┴───────────────┘\n"
      ]
     },
     "metadata": {},
     "output_type": "display_data"
    },
    {
     "data": {
      "text/html": [
       "<pre style=\"white-space:pre;overflow-x:auto;line-height:normal;font-family:Menlo,'DejaVu Sans Mono',consolas,'Courier New',monospace\"><span style=\"font-weight: bold\"> Total params: </span><span style=\"color: #00af00; text-decoration-color: #00af00\">283</span> (1.11 KB)\n",
       "</pre>\n"
      ],
      "text/plain": [
       "\u001b[1m Total params: \u001b[0m\u001b[38;5;34m283\u001b[0m (1.11 KB)\n"
      ]
     },
     "metadata": {},
     "output_type": "display_data"
    },
    {
     "data": {
      "text/html": [
       "<pre style=\"white-space:pre;overflow-x:auto;line-height:normal;font-family:Menlo,'DejaVu Sans Mono',consolas,'Courier New',monospace\"><span style=\"font-weight: bold\"> Trainable params: </span><span style=\"color: #00af00; text-decoration-color: #00af00\">283</span> (1.11 KB)\n",
       "</pre>\n"
      ],
      "text/plain": [
       "\u001b[1m Trainable params: \u001b[0m\u001b[38;5;34m283\u001b[0m (1.11 KB)\n"
      ]
     },
     "metadata": {},
     "output_type": "display_data"
    },
    {
     "data": {
      "text/html": [
       "<pre style=\"white-space:pre;overflow-x:auto;line-height:normal;font-family:Menlo,'DejaVu Sans Mono',consolas,'Courier New',monospace\"><span style=\"font-weight: bold\"> Non-trainable params: </span><span style=\"color: #00af00; text-decoration-color: #00af00\">0</span> (0.00 B)\n",
       "</pre>\n"
      ],
      "text/plain": [
       "\u001b[1m Non-trainable params: \u001b[0m\u001b[38;5;34m0\u001b[0m (0.00 B)\n"
      ]
     },
     "metadata": {},
     "output_type": "display_data"
    }
   ],
   "source": [
    "model.summary()"
   ]
  },
  {
   "cell_type": "code",
   "execution_count": null,
   "id": "27a46900-d9b1-41f3-bb6a-02af6544ae3a",
   "metadata": {},
   "outputs": [],
   "source": []
  },
  {
   "cell_type": "code",
   "execution_count": 35,
   "id": "147fdeca-56b3-4c76-b1fa-1967bba27979",
   "metadata": {},
   "outputs": [
    {
     "data": {
      "text/plain": [
       "((None, 1), (None, 3))"
      ]
     },
     "execution_count": 35,
     "metadata": {},
     "output_type": "execute_result"
    }
   ],
   "source": [
    "model.input_shape, model.output_shape"
   ]
  },
  {
   "cell_type": "code",
   "execution_count": null,
   "id": "bda517c1-52d0-4105-99ad-95a4b65da732",
   "metadata": {},
   "outputs": [],
   "source": []
  },
  {
   "cell_type": "code",
   "execution_count": null,
   "id": "ac296bdf-11af-4cb0-a843-5603ca437e5e",
   "metadata": {},
   "outputs": [],
   "source": []
  },
  {
   "cell_type": "code",
   "execution_count": null,
   "id": "ec7a9094-c0d4-4e7d-91fc-144dd3d45037",
   "metadata": {},
   "outputs": [],
   "source": []
  },
  {
   "cell_type": "code",
   "execution_count": 36,
   "id": "0ee4ea40-c75b-4cf7-b955-44eb169238ec",
   "metadata": {},
   "outputs": [],
   "source": [
    "# tf.keras.metrics.R2Score()"
   ]
  },
  {
   "cell_type": "code",
   "execution_count": 37,
   "id": "d2b4eba3-8ab1-4e22-a2aa-0cac3a4ac964",
   "metadata": {},
   "outputs": [],
   "source": [
    "model.compile(loss=\"mse\", # Impact the training process\n",
    "              optimizer=\"adam\", # Impact the training process\n",
    "              metrics=[tf.keras.metrics.R2Score(), \"mae\"] # Does Not Impact the training process\n",
    "             )"
   ]
  },
  {
   "cell_type": "code",
   "execution_count": null,
   "id": "1b807a79-64ae-4505-a998-7eaddc5f0963",
   "metadata": {},
   "outputs": [],
   "source": []
  },
  {
   "cell_type": "code",
   "execution_count": 38,
   "id": "0a7df5e6-8912-462c-a699-25712284b811",
   "metadata": {},
   "outputs": [
    {
     "name": "stdout",
     "output_type": "stream",
     "text": [
      "Epoch 1/100\n",
      "\u001b[1m4/4\u001b[0m \u001b[32m━━━━━━━━━━━━━━━━━━━━\u001b[0m\u001b[37m\u001b[0m \u001b[1m2s\u001b[0m 9ms/step - loss: 62.1082 - mae: 7.3562 - r2_score: -6.8824\n",
      "Epoch 2/100\n",
      "\u001b[1m4/4\u001b[0m \u001b[32m━━━━━━━━━━━━━━━━━━━━\u001b[0m\u001b[37m\u001b[0m \u001b[1m0s\u001b[0m 3ms/step - loss: 56.7141 - mae: 7.0851 - r2_score: -7.6610 \n",
      "Epoch 3/100\n",
      "\u001b[1m4/4\u001b[0m \u001b[32m━━━━━━━━━━━━━━━━━━━━\u001b[0m\u001b[37m\u001b[0m \u001b[1m0s\u001b[0m 5ms/step - loss: 58.2725 - mae: 7.1780 - r2_score: -7.6298\n",
      "Epoch 4/100\n",
      "\u001b[1m4/4\u001b[0m \u001b[32m━━━━━━━━━━━━━━━━━━━━\u001b[0m\u001b[37m\u001b[0m \u001b[1m0s\u001b[0m 5ms/step - loss: 56.4637 - mae: 7.0926 - r2_score: -8.1986 \n",
      "Epoch 5/100\n",
      "\u001b[1m4/4\u001b[0m \u001b[32m━━━━━━━━━━━━━━━━━━━━\u001b[0m\u001b[37m\u001b[0m \u001b[1m0s\u001b[0m 5ms/step - loss: 55.4230 - mae: 7.0186 - r2_score: -8.0611\n",
      "Epoch 6/100\n",
      "\u001b[1m4/4\u001b[0m \u001b[32m━━━━━━━━━━━━━━━━━━━━\u001b[0m\u001b[37m\u001b[0m \u001b[1m0s\u001b[0m 7ms/step - loss: 56.4851 - mae: 7.0309 - r2_score: -6.9169\n",
      "Epoch 7/100\n",
      "\u001b[1m4/4\u001b[0m \u001b[32m━━━━━━━━━━━━━━━━━━━━\u001b[0m\u001b[37m\u001b[0m \u001b[1m0s\u001b[0m 4ms/step - loss: 57.3020 - mae: 7.0534 - r2_score: -6.4879 \n",
      "Epoch 8/100\n",
      "\u001b[1m4/4\u001b[0m \u001b[32m━━━━━━━━━━━━━━━━━━━━\u001b[0m\u001b[37m\u001b[0m \u001b[1m0s\u001b[0m 4ms/step - loss: 56.3089 - mae: 7.0486 - r2_score: -7.3236 \n",
      "Epoch 9/100\n",
      "\u001b[1m4/4\u001b[0m \u001b[32m━━━━━━━━━━━━━━━━━━━━\u001b[0m\u001b[37m\u001b[0m \u001b[1m0s\u001b[0m 5ms/step - loss: 58.8291 - mae: 7.2330 - r2_score: -7.9828  \n",
      "Epoch 10/100\n",
      "\u001b[1m4/4\u001b[0m \u001b[32m━━━━━━━━━━━━━━━━━━━━\u001b[0m\u001b[37m\u001b[0m \u001b[1m0s\u001b[0m 5ms/step - loss: 55.8047 - mae: 7.0196 - r2_score: -7.2863 \n",
      "Epoch 11/100\n",
      "\u001b[1m4/4\u001b[0m \u001b[32m━━━━━━━━━━━━━━━━━━━━\u001b[0m\u001b[37m\u001b[0m \u001b[1m0s\u001b[0m 4ms/step - loss: 54.9999 - mae: 6.9695 - r2_score: -7.3840 \n",
      "Epoch 12/100\n",
      "\u001b[1m4/4\u001b[0m \u001b[32m━━━━━━━━━━━━━━━━━━━━\u001b[0m\u001b[37m\u001b[0m \u001b[1m0s\u001b[0m 4ms/step - loss: 58.6444 - mae: 7.1475 - r2_score: -6.6063 \n",
      "Epoch 13/100\n",
      "\u001b[1m4/4\u001b[0m \u001b[32m━━━━━━━━━━━━━━━━━━━━\u001b[0m\u001b[37m\u001b[0m \u001b[1m0s\u001b[0m 4ms/step - loss: 56.6676 - mae: 7.0871 - r2_score: -7.4446 \n",
      "Epoch 14/100\n",
      "\u001b[1m4/4\u001b[0m \u001b[32m━━━━━━━━━━━━━━━━━━━━\u001b[0m\u001b[37m\u001b[0m \u001b[1m0s\u001b[0m 3ms/step - loss: 56.3185 - mae: 7.0169 - r2_score: -6.7074 \n",
      "Epoch 15/100\n",
      "\u001b[1m4/4\u001b[0m \u001b[32m━━━━━━━━━━━━━━━━━━━━\u001b[0m\u001b[37m\u001b[0m \u001b[1m0s\u001b[0m 4ms/step - loss: 58.0100 - mae: 7.1614 - r2_score: -7.3642 \n",
      "Epoch 16/100\n",
      "\u001b[1m4/4\u001b[0m \u001b[32m━━━━━━━━━━━━━━━━━━━━\u001b[0m\u001b[37m\u001b[0m \u001b[1m0s\u001b[0m 4ms/step - loss: 55.9541 - mae: 7.0011 - r2_score: -6.7344 \n",
      "Epoch 17/100\n",
      "\u001b[1m4/4\u001b[0m \u001b[32m━━━━━━━━━━━━━━━━━━━━\u001b[0m\u001b[37m\u001b[0m \u001b[1m0s\u001b[0m 4ms/step - loss: 59.1947 - mae: 7.2243 - r2_score: -7.1824 \n",
      "Epoch 18/100\n",
      "\u001b[1m4/4\u001b[0m \u001b[32m━━━━━━━━━━━━━━━━━━━━\u001b[0m\u001b[37m\u001b[0m \u001b[1m0s\u001b[0m 5ms/step - loss: 56.0171 - mae: 7.0324 - r2_score: -7.1099 \n",
      "Epoch 19/100\n",
      "\u001b[1m4/4\u001b[0m \u001b[32m━━━━━━━━━━━━━━━━━━━━\u001b[0m\u001b[37m\u001b[0m \u001b[1m0s\u001b[0m 5ms/step - loss: 55.0899 - mae: 6.9497 - r2_score: -6.7038 \n",
      "Epoch 20/100\n",
      "\u001b[1m4/4\u001b[0m \u001b[32m━━━━━━━━━━━━━━━━━━━━\u001b[0m\u001b[37m\u001b[0m \u001b[1m0s\u001b[0m 4ms/step - loss: 56.5354 - mae: 7.0754 - r2_score: -7.3774\n",
      "Epoch 21/100\n",
      "\u001b[1m4/4\u001b[0m \u001b[32m━━━━━━━━━━━━━━━━━━━━\u001b[0m\u001b[37m\u001b[0m \u001b[1m0s\u001b[0m 4ms/step - loss: 55.2288 - mae: 6.9646 - r2_score: -6.8126\n",
      "Epoch 22/100\n",
      "\u001b[1m4/4\u001b[0m \u001b[32m━━━━━━━━━━━━━━━━━━━━\u001b[0m\u001b[37m\u001b[0m \u001b[1m0s\u001b[0m 5ms/step - loss: 55.1808 - mae: 6.9984 - r2_score: -7.5485\n",
      "Epoch 23/100\n",
      "\u001b[1m4/4\u001b[0m \u001b[32m━━━━━━━━━━━━━━━━━━━━\u001b[0m\u001b[37m\u001b[0m \u001b[1m0s\u001b[0m 6ms/step - loss: 55.8223 - mae: 6.9922 - r2_score: -6.5845\n",
      "Epoch 24/100\n",
      "\u001b[1m4/4\u001b[0m \u001b[32m━━━━━━━━━━━━━━━━━━━━\u001b[0m\u001b[37m\u001b[0m \u001b[1m0s\u001b[0m 5ms/step - loss: 55.9216 - mae: 7.0745 - r2_score: -8.5115\n",
      "Epoch 25/100\n",
      "\u001b[1m4/4\u001b[0m \u001b[32m━━━━━━━━━━━━━━━━━━━━\u001b[0m\u001b[37m\u001b[0m \u001b[1m0s\u001b[0m 5ms/step - loss: 54.8380 - mae: 6.9773 - r2_score: -7.4341\n",
      "Epoch 26/100\n",
      "\u001b[1m4/4\u001b[0m \u001b[32m━━━━━━━━━━━━━━━━━━━━\u001b[0m\u001b[37m\u001b[0m \u001b[1m0s\u001b[0m 4ms/step - loss: 56.6617 - mae: 7.0961 - r2_score: -7.6596  \n",
      "Epoch 27/100\n",
      "\u001b[1m4/4\u001b[0m \u001b[32m━━━━━━━━━━━━━━━━━━━━\u001b[0m\u001b[37m\u001b[0m \u001b[1m0s\u001b[0m 5ms/step - loss: 56.8614 - mae: 7.1306 - r2_score: -8.2125 \n",
      "Epoch 28/100\n",
      "\u001b[1m4/4\u001b[0m \u001b[32m━━━━━━━━━━━━━━━━━━━━\u001b[0m\u001b[37m\u001b[0m \u001b[1m0s\u001b[0m 4ms/step - loss: 57.4656 - mae: 7.0803 - r2_score: -6.4564 \n",
      "Epoch 29/100\n",
      "\u001b[1m4/4\u001b[0m \u001b[32m━━━━━━━━━━━━━━━━━━━━\u001b[0m\u001b[37m\u001b[0m \u001b[1m0s\u001b[0m 5ms/step - loss: 55.7289 - mae: 6.9965 - r2_score: -6.7328\n",
      "Epoch 30/100\n",
      "\u001b[1m4/4\u001b[0m \u001b[32m━━━━━━━━━━━━━━━━━━━━\u001b[0m\u001b[37m\u001b[0m \u001b[1m0s\u001b[0m 4ms/step - loss: 55.2127 - mae: 6.9951 - r2_score: -7.1818 \n",
      "Epoch 31/100\n",
      "\u001b[1m4/4\u001b[0m \u001b[32m━━━━━━━━━━━━━━━━━━━━\u001b[0m\u001b[37m\u001b[0m \u001b[1m0s\u001b[0m 5ms/step - loss: 56.0625 - mae: 7.0606 - r2_score: -7.5499 \n",
      "Epoch 32/100\n",
      "\u001b[1m4/4\u001b[0m \u001b[32m━━━━━━━━━━━━━━━━━━━━\u001b[0m\u001b[37m\u001b[0m \u001b[1m0s\u001b[0m 3ms/step - loss: 54.5064 - mae: 6.9467 - r2_score: -7.2505 \n",
      "Epoch 33/100\n",
      "\u001b[1m4/4\u001b[0m \u001b[32m━━━━━━━━━━━━━━━━━━━━\u001b[0m\u001b[37m\u001b[0m \u001b[1m0s\u001b[0m 6ms/step - loss: 55.8577 - mae: 7.0264 - r2_score: -7.0886 \n",
      "Epoch 34/100\n",
      "\u001b[1m4/4\u001b[0m \u001b[32m━━━━━━━━━━━━━━━━━━━━\u001b[0m\u001b[37m\u001b[0m \u001b[1m0s\u001b[0m 4ms/step - loss: 55.7589 - mae: 7.0093 - r2_score: -6.8847 \n",
      "Epoch 35/100\n",
      "\u001b[1m4/4\u001b[0m \u001b[32m━━━━━━━━━━━━━━━━━━━━\u001b[0m\u001b[37m\u001b[0m \u001b[1m0s\u001b[0m 4ms/step - loss: 55.0667 - mae: 6.9851 - r2_score: -7.3126 \n",
      "Epoch 36/100\n",
      "\u001b[1m4/4\u001b[0m \u001b[32m━━━━━━━━━━━━━━━━━━━━\u001b[0m\u001b[37m\u001b[0m \u001b[1m0s\u001b[0m 4ms/step - loss: 54.1477 - mae: 6.9112 - r2_score: -7.0443\n",
      "Epoch 37/100\n",
      "\u001b[1m4/4\u001b[0m \u001b[32m━━━━━━━━━━━━━━━━━━━━\u001b[0m\u001b[37m\u001b[0m \u001b[1m0s\u001b[0m 5ms/step - loss: 53.6441 - mae: 6.8495 - r2_score: -6.3899 \n",
      "Epoch 38/100\n",
      "\u001b[1m4/4\u001b[0m \u001b[32m━━━━━━━━━━━━━━━━━━━━\u001b[0m\u001b[37m\u001b[0m \u001b[1m0s\u001b[0m 4ms/step - loss: 52.4611 - mae: 6.7509 - r2_score: -6.1501\n",
      "Epoch 39/100\n",
      "\u001b[1m4/4\u001b[0m \u001b[32m━━━━━━━━━━━━━━━━━━━━\u001b[0m\u001b[37m\u001b[0m \u001b[1m0s\u001b[0m 3ms/step - loss: 54.9801 - mae: 6.9867 - r2_score: -7.4690\n",
      "Epoch 40/100\n",
      "\u001b[1m4/4\u001b[0m \u001b[32m━━━━━━━━━━━━━━━━━━━━\u001b[0m\u001b[37m\u001b[0m \u001b[1m0s\u001b[0m 3ms/step - loss: 55.6714 - mae: 6.9813 - r2_score: -6.5757 \n",
      "Epoch 41/100\n",
      "\u001b[1m4/4\u001b[0m \u001b[32m━━━━━━━━━━━━━━━━━━━━\u001b[0m\u001b[37m\u001b[0m \u001b[1m0s\u001b[0m 4ms/step - loss: 52.3261 - mae: 6.7665 - r2_score: -6.5546\n",
      "Epoch 42/100\n",
      "\u001b[1m4/4\u001b[0m \u001b[32m━━━━━━━━━━━━━━━━━━━━\u001b[0m\u001b[37m\u001b[0m \u001b[1m0s\u001b[0m 7ms/step - loss: 53.6910 - mae: 6.8268 - r2_score: -6.1576\n",
      "Epoch 43/100\n",
      "\u001b[1m4/4\u001b[0m \u001b[32m━━━━━━━━━━━━━━━━━━━━\u001b[0m\u001b[37m\u001b[0m \u001b[1m0s\u001b[0m 4ms/step - loss: 54.1212 - mae: 6.8842 - r2_score: -6.4484\n",
      "Epoch 44/100\n",
      "\u001b[1m4/4\u001b[0m \u001b[32m━━━━━━━━━━━━━━━━━━━━\u001b[0m\u001b[37m\u001b[0m \u001b[1m0s\u001b[0m 5ms/step - loss: 51.0034 - mae: 6.6322 - r2_score: -5.8985 \n",
      "Epoch 45/100\n",
      "\u001b[1m4/4\u001b[0m \u001b[32m━━━━━━━━━━━━━━━━━━━━\u001b[0m\u001b[37m\u001b[0m \u001b[1m0s\u001b[0m 5ms/step - loss: 53.4623 - mae: 6.8568 - r2_score: -6.8214\n",
      "Epoch 46/100\n",
      "\u001b[1m4/4\u001b[0m \u001b[32m━━━━━━━━━━━━━━━━━━━━\u001b[0m\u001b[37m\u001b[0m \u001b[1m0s\u001b[0m 3ms/step - loss: 54.1074 - mae: 6.8883 - r2_score: -6.5218\n",
      "Epoch 47/100\n",
      "\u001b[1m4/4\u001b[0m \u001b[32m━━━━━━━━━━━━━━━━━━━━\u001b[0m\u001b[37m\u001b[0m \u001b[1m0s\u001b[0m 4ms/step - loss: 53.8536 - mae: 6.8947 - r2_score: -7.0390 \n",
      "Epoch 48/100\n",
      "\u001b[1m4/4\u001b[0m \u001b[32m━━━━━━━━━━━━━━━━━━━━\u001b[0m\u001b[37m\u001b[0m \u001b[1m0s\u001b[0m 5ms/step - loss: 53.9554 - mae: 6.9120 - r2_score: -7.2626 \n",
      "Epoch 49/100\n",
      "\u001b[1m4/4\u001b[0m \u001b[32m━━━━━━━━━━━━━━━━━━━━\u001b[0m\u001b[37m\u001b[0m \u001b[1m0s\u001b[0m 5ms/step - loss: 52.5713 - mae: 6.8093 - r2_score: -6.8312\n",
      "Epoch 50/100\n",
      "\u001b[1m4/4\u001b[0m \u001b[32m━━━━━━━━━━━━━━━━━━━━\u001b[0m\u001b[37m\u001b[0m \u001b[1m0s\u001b[0m 3ms/step - loss: 53.1210 - mae: 6.8021 - r2_score: -6.3252 \n",
      "Epoch 51/100\n",
      "\u001b[1m4/4\u001b[0m \u001b[32m━━━━━━━━━━━━━━━━━━━━\u001b[0m\u001b[37m\u001b[0m \u001b[1m0s\u001b[0m 3ms/step - loss: 52.6280 - mae: 6.7812 - r2_score: -6.4984 \n",
      "Epoch 52/100\n",
      "\u001b[1m4/4\u001b[0m \u001b[32m━━━━━━━━━━━━━━━━━━━━\u001b[0m\u001b[37m\u001b[0m \u001b[1m0s\u001b[0m 3ms/step - loss: 53.0079 - mae: 6.8228 - r2_score: -6.8370 \n",
      "Epoch 53/100\n",
      "\u001b[1m4/4\u001b[0m \u001b[32m━━━━━━━━━━━━━━━━━━━━\u001b[0m\u001b[37m\u001b[0m \u001b[1m0s\u001b[0m 5ms/step - loss: 51.9033 - mae: 6.7457 - r2_score: -6.7621 \n",
      "Epoch 54/100\n",
      "\u001b[1m4/4\u001b[0m \u001b[32m━━━━━━━━━━━━━━━━━━━━\u001b[0m\u001b[37m\u001b[0m \u001b[1m0s\u001b[0m 4ms/step - loss: 53.2768 - mae: 6.8475 - r2_score: -6.7669 \n",
      "Epoch 55/100\n",
      "\u001b[1m4/4\u001b[0m \u001b[32m━━━━━━━━━━━━━━━━━━━━\u001b[0m\u001b[37m\u001b[0m \u001b[1m0s\u001b[0m 107ms/step - loss: 49.9584 - mae: 6.5632 - r2_score: -5.8995\n",
      "Epoch 56/100\n",
      "\u001b[1m4/4\u001b[0m \u001b[32m━━━━━━━━━━━━━━━━━━━━\u001b[0m\u001b[37m\u001b[0m \u001b[1m0s\u001b[0m 5ms/step - loss: 51.7962 - mae: 6.7558 - r2_score: -7.0659\n",
      "Epoch 57/100\n",
      "\u001b[1m4/4\u001b[0m \u001b[32m━━━━━━━━━━━━━━━━━━━━\u001b[0m\u001b[37m\u001b[0m \u001b[1m0s\u001b[0m 5ms/step - loss: 51.7031 - mae: 6.6527 - r2_score: -5.6692\n",
      "Epoch 58/100\n",
      "\u001b[1m4/4\u001b[0m \u001b[32m━━━━━━━━━━━━━━━━━━━━\u001b[0m\u001b[37m\u001b[0m \u001b[1m0s\u001b[0m 5ms/step - loss: 53.8971 - mae: 6.8620 - r2_score: -6.4561 \n",
      "Epoch 59/100\n",
      "\u001b[1m4/4\u001b[0m \u001b[32m━━━━━━━━━━━━━━━━━━━━\u001b[0m\u001b[37m\u001b[0m \u001b[1m0s\u001b[0m 5ms/step - loss: 50.4703 - mae: 6.6707 - r2_score: -7.2393\n",
      "Epoch 60/100\n",
      "\u001b[1m4/4\u001b[0m \u001b[32m━━━━━━━━━━━━━━━━━━━━\u001b[0m\u001b[37m\u001b[0m \u001b[1m0s\u001b[0m 5ms/step - loss: 51.9466 - mae: 6.7206 - r2_score: -6.3743 \n",
      "Epoch 61/100\n",
      "\u001b[1m4/4\u001b[0m \u001b[32m━━━━━━━━━━━━━━━━━━━━\u001b[0m\u001b[37m\u001b[0m \u001b[1m0s\u001b[0m 5ms/step - loss: 52.4022 - mae: 6.7435 - r2_score: -6.1381\n",
      "Epoch 62/100\n",
      "\u001b[1m4/4\u001b[0m \u001b[32m━━━━━━━━━━━━━━━━━━━━\u001b[0m\u001b[37m\u001b[0m \u001b[1m0s\u001b[0m 5ms/step - loss: 51.2287 - mae: 6.7043 - r2_score: -6.6460\n",
      "Epoch 63/100\n",
      "\u001b[1m4/4\u001b[0m \u001b[32m━━━━━━━━━━━━━━━━━━━━\u001b[0m\u001b[37m\u001b[0m \u001b[1m0s\u001b[0m 8ms/step - loss: 52.8248 - mae: 6.7991 - r2_score: -6.7780\n",
      "Epoch 64/100\n",
      "\u001b[1m4/4\u001b[0m \u001b[32m━━━━━━━━━━━━━━━━━━━━\u001b[0m\u001b[37m\u001b[0m \u001b[1m0s\u001b[0m 5ms/step - loss: 53.3435 - mae: 6.7990 - r2_score: -6.2627\n",
      "Epoch 65/100\n",
      "\u001b[1m4/4\u001b[0m \u001b[32m━━━━━━━━━━━━━━━━━━━━\u001b[0m\u001b[37m\u001b[0m \u001b[1m0s\u001b[0m 4ms/step - loss: 50.3292 - mae: 6.6130 - r2_score: -6.3736\n",
      "Epoch 66/100\n",
      "\u001b[1m4/4\u001b[0m \u001b[32m━━━━━━━━━━━━━━━━━━━━\u001b[0m\u001b[37m\u001b[0m \u001b[1m0s\u001b[0m 4ms/step - loss: 51.4038 - mae: 6.6916 - r2_score: -6.3177\n",
      "Epoch 67/100\n",
      "\u001b[1m4/4\u001b[0m \u001b[32m━━━━━━━━━━━━━━━━━━━━\u001b[0m\u001b[37m\u001b[0m \u001b[1m0s\u001b[0m 5ms/step - loss: 53.3398 - mae: 6.8353 - r2_score: -6.8410\n",
      "Epoch 68/100\n",
      "\u001b[1m4/4\u001b[0m \u001b[32m━━━━━━━━━━━━━━━━━━━━\u001b[0m\u001b[37m\u001b[0m \u001b[1m0s\u001b[0m 5ms/step - loss: 50.2090 - mae: 6.5849 - r2_score: -5.9914\n",
      "Epoch 69/100\n",
      "\u001b[1m4/4\u001b[0m \u001b[32m━━━━━━━━━━━━━━━━━━━━\u001b[0m\u001b[37m\u001b[0m \u001b[1m0s\u001b[0m 5ms/step - loss: 52.0552 - mae: 6.7006 - r2_score: -5.9213 \n",
      "Epoch 70/100\n",
      "\u001b[1m4/4\u001b[0m \u001b[32m━━━━━━━━━━━━━━━━━━━━\u001b[0m\u001b[37m\u001b[0m \u001b[1m0s\u001b[0m 5ms/step - loss: 51.9600 - mae: 6.7161 - r2_score: -6.3636\n",
      "Epoch 71/100\n",
      "\u001b[1m4/4\u001b[0m \u001b[32m━━━━━━━━━━━━━━━━━━━━\u001b[0m\u001b[37m\u001b[0m \u001b[1m0s\u001b[0m 5ms/step - loss: 49.9697 - mae: 6.6036 - r2_score: -6.6501\n",
      "Epoch 72/100\n",
      "\u001b[1m4/4\u001b[0m \u001b[32m━━━━━━━━━━━━━━━━━━━━\u001b[0m\u001b[37m\u001b[0m \u001b[1m0s\u001b[0m 5ms/step - loss: 50.9287 - mae: 6.6754 - r2_score: -6.8854\n",
      "Epoch 73/100\n",
      "\u001b[1m4/4\u001b[0m \u001b[32m━━━━━━━━━━━━━━━━━━━━\u001b[0m\u001b[37m\u001b[0m \u001b[1m0s\u001b[0m 4ms/step - loss: 52.4666 - mae: 6.7294 - r2_score: -6.1512\n",
      "Epoch 74/100\n",
      "\u001b[1m4/4\u001b[0m \u001b[32m━━━━━━━━━━━━━━━━━━━━\u001b[0m\u001b[37m\u001b[0m \u001b[1m0s\u001b[0m 4ms/step - loss: 49.8920 - mae: 6.5652 - r2_score: -6.2249 \n",
      "Epoch 75/100\n",
      "\u001b[1m4/4\u001b[0m \u001b[32m━━━━━━━━━━━━━━━━━━━━\u001b[0m\u001b[37m\u001b[0m \u001b[1m0s\u001b[0m 5ms/step - loss: 52.2790 - mae: 6.7312 - r2_score: -6.3191\n",
      "Epoch 76/100\n",
      "\u001b[1m4/4\u001b[0m \u001b[32m━━━━━━━━━━━━━━━━━━━━\u001b[0m\u001b[37m\u001b[0m \u001b[1m0s\u001b[0m 4ms/step - loss: 51.5524 - mae: 6.7280 - r2_score: -7.0580\n",
      "Epoch 77/100\n",
      "\u001b[1m4/4\u001b[0m \u001b[32m━━━━━━━━━━━━━━━━━━━━\u001b[0m\u001b[37m\u001b[0m \u001b[1m0s\u001b[0m 4ms/step - loss: 50.3514 - mae: 6.5890 - r2_score: -5.9274 \n",
      "Epoch 78/100\n",
      "\u001b[1m4/4\u001b[0m \u001b[32m━━━━━━━━━━━━━━━━━━━━\u001b[0m\u001b[37m\u001b[0m \u001b[1m0s\u001b[0m 4ms/step - loss: 51.6301 - mae: 6.6464 - r2_score: -5.6939 \n",
      "Epoch 79/100\n",
      "\u001b[1m4/4\u001b[0m \u001b[32m━━━━━━━━━━━━━━━━━━━━\u001b[0m\u001b[37m\u001b[0m \u001b[1m0s\u001b[0m 4ms/step - loss: 49.3635 - mae: 6.5340 - r2_score: -6.1701 \n",
      "Epoch 80/100\n",
      "\u001b[1m4/4\u001b[0m \u001b[32m━━━━━━━━━━━━━━━━━━━━\u001b[0m\u001b[37m\u001b[0m \u001b[1m0s\u001b[0m 5ms/step - loss: 50.5231 - mae: 6.6556 - r2_score: -7.0029 \n",
      "Epoch 81/100\n",
      "\u001b[1m4/4\u001b[0m \u001b[32m━━━━━━━━━━━━━━━━━━━━\u001b[0m\u001b[37m\u001b[0m \u001b[1m0s\u001b[0m 6ms/step - loss: 48.1506 - mae: 6.4588 - r2_score: -6.1502\n",
      "Epoch 82/100\n",
      "\u001b[1m4/4\u001b[0m \u001b[32m━━━━━━━━━━━━━━━━━━━━\u001b[0m\u001b[37m\u001b[0m \u001b[1m0s\u001b[0m 8ms/step - loss: 50.9554 - mae: 6.6497 - r2_score: -6.3385 \n",
      "Epoch 83/100\n",
      "\u001b[1m4/4\u001b[0m \u001b[32m━━━━━━━━━━━━━━━━━━━━\u001b[0m\u001b[37m\u001b[0m \u001b[1m0s\u001b[0m 5ms/step - loss: 49.2067 - mae: 6.5371 - r2_score: -6.2216\n",
      "Epoch 84/100\n",
      "\u001b[1m4/4\u001b[0m \u001b[32m━━━━━━━━━━━━━━━━━━━━\u001b[0m\u001b[37m\u001b[0m \u001b[1m0s\u001b[0m 3ms/step - loss: 52.4686 - mae: 6.7562 - r2_score: -6.3008 \n",
      "Epoch 85/100\n",
      "\u001b[1m4/4\u001b[0m \u001b[32m━━━━━━━━━━━━━━━━━━━━\u001b[0m\u001b[37m\u001b[0m \u001b[1m0s\u001b[0m 4ms/step - loss: 50.9577 - mae: 6.6850 - r2_score: -7.0584 \n",
      "Epoch 86/100\n",
      "\u001b[1m4/4\u001b[0m \u001b[32m━━━━━━━━━━━━━━━━━━━━\u001b[0m\u001b[37m\u001b[0m \u001b[1m0s\u001b[0m 3ms/step - loss: 50.7352 - mae: 6.6412 - r2_score: -6.4464 \n",
      "Epoch 87/100\n",
      "\u001b[1m4/4\u001b[0m \u001b[32m━━━━━━━━━━━━━━━━━━━━\u001b[0m\u001b[37m\u001b[0m \u001b[1m0s\u001b[0m 5ms/step - loss: 51.9260 - mae: 6.6917 - r2_score: -5.9466\n",
      "Epoch 88/100\n",
      "\u001b[1m4/4\u001b[0m \u001b[32m━━━━━━━━━━━━━━━━━━━━\u001b[0m\u001b[37m\u001b[0m \u001b[1m0s\u001b[0m 5ms/step - loss: 51.7341 - mae: 6.7357 - r2_score: -6.9930\n",
      "Epoch 89/100\n",
      "\u001b[1m4/4\u001b[0m \u001b[32m━━━━━━━━━━━━━━━━━━━━\u001b[0m\u001b[37m\u001b[0m \u001b[1m0s\u001b[0m 4ms/step - loss: 53.8912 - mae: 6.8577 - r2_score: -6.7901\n",
      "Epoch 90/100\n",
      "\u001b[1m4/4\u001b[0m \u001b[32m━━━━━━━━━━━━━━━━━━━━\u001b[0m\u001b[37m\u001b[0m \u001b[1m0s\u001b[0m 5ms/step - loss: 50.7669 - mae: 6.6776 - r2_score: -7.1812\n",
      "Epoch 91/100\n",
      "\u001b[1m4/4\u001b[0m \u001b[32m━━━━━━━━━━━━━━━━━━━━\u001b[0m\u001b[37m\u001b[0m \u001b[1m0s\u001b[0m 4ms/step - loss: 51.0981 - mae: 6.6569 - r2_score: -6.3713 \n",
      "Epoch 92/100\n",
      "\u001b[1m4/4\u001b[0m \u001b[32m━━━━━━━━━━━━━━━━━━━━\u001b[0m\u001b[37m\u001b[0m \u001b[1m0s\u001b[0m 3ms/step - loss: 51.0877 - mae: 6.6654 - r2_score: -6.2864 \n",
      "Epoch 93/100\n",
      "\u001b[1m4/4\u001b[0m \u001b[32m━━━━━━━━━━━━━━━━━━━━\u001b[0m\u001b[37m\u001b[0m \u001b[1m0s\u001b[0m 5ms/step - loss: 53.1112 - mae: 6.7944 - r2_score: -6.3173 \n",
      "Epoch 94/100\n",
      "\u001b[1m4/4\u001b[0m \u001b[32m━━━━━━━━━━━━━━━━━━━━\u001b[0m\u001b[37m\u001b[0m \u001b[1m0s\u001b[0m 5ms/step - loss: 51.5099 - mae: 6.7203 - r2_score: -7.0958 \n",
      "Epoch 95/100\n",
      "\u001b[1m4/4\u001b[0m \u001b[32m━━━━━━━━━━━━━━━━━━━━\u001b[0m\u001b[37m\u001b[0m \u001b[1m0s\u001b[0m 3ms/step - loss: 51.3258 - mae: 6.6341 - r2_score: -5.9164 \n",
      "Epoch 96/100\n",
      "\u001b[1m4/4\u001b[0m \u001b[32m━━━━━━━━━━━━━━━━━━━━\u001b[0m\u001b[37m\u001b[0m \u001b[1m0s\u001b[0m 4ms/step - loss: 49.7286 - mae: 6.5627 - r2_score: -6.3313\n",
      "Epoch 97/100\n",
      "\u001b[1m4/4\u001b[0m \u001b[32m━━━━━━━━━━━━━━━━━━━━\u001b[0m\u001b[37m\u001b[0m \u001b[1m0s\u001b[0m 5ms/step - loss: 51.5964 - mae: 6.6991 - r2_score: -6.5293 \n",
      "Epoch 98/100\n",
      "\u001b[1m4/4\u001b[0m \u001b[32m━━━━━━━━━━━━━━━━━━━━\u001b[0m\u001b[37m\u001b[0m \u001b[1m0s\u001b[0m 4ms/step - loss: 50.6902 - mae: 6.6596 - r2_score: -6.8647 \n",
      "Epoch 99/100\n",
      "\u001b[1m4/4\u001b[0m \u001b[32m━━━━━━━━━━━━━━━━━━━━\u001b[0m\u001b[37m\u001b[0m \u001b[1m0s\u001b[0m 4ms/step - loss: 51.3068 - mae: 6.6921 - r2_score: -6.5249\n",
      "Epoch 100/100\n",
      "\u001b[1m4/4\u001b[0m \u001b[32m━━━━━━━━━━━━━━━━━━━━\u001b[0m\u001b[37m\u001b[0m \u001b[1m0s\u001b[0m 5ms/step - loss: 50.2121 - mae: 6.5776 - r2_score: -6.0414\n"
     ]
    }
   ],
   "source": [
    "history = model.fit(x=X, y=y, epochs=100)"
   ]
  },
  {
   "cell_type": "code",
   "execution_count": null,
   "id": "9e419129-c009-4bc7-905e-e397a909f1b1",
   "metadata": {},
   "outputs": [],
   "source": []
  },
  {
   "cell_type": "code",
   "execution_count": 39,
   "id": "35dfe333-be2d-4778-9a0f-9c00015596ef",
   "metadata": {},
   "outputs": [
    {
     "data": {
      "text/plain": [
       "{'loss': [57.606571197509766,\n",
       "  57.499942779541016,\n",
       "  57.40422058105469,\n",
       "  57.30496597290039,\n",
       "  57.21058654785156,\n",
       "  57.12527847290039,\n",
       "  57.043827056884766,\n",
       "  56.96159362792969,\n",
       "  56.890052795410156,\n",
       "  56.81450271606445,\n",
       "  56.74518966674805,\n",
       "  56.678375244140625,\n",
       "  56.60200119018555,\n",
       "  56.5307502746582,\n",
       "  56.458213806152344,\n",
       "  56.380916595458984,\n",
       "  56.30646514892578,\n",
       "  56.217437744140625,\n",
       "  56.12639617919922,\n",
       "  56.03269577026367,\n",
       "  55.934364318847656,\n",
       "  55.833072662353516,\n",
       "  55.72858428955078,\n",
       "  55.615745544433594,\n",
       "  55.500431060791016,\n",
       "  55.38035202026367,\n",
       "  55.2599983215332,\n",
       "  55.141082763671875,\n",
       "  55.0225944519043,\n",
       "  54.906158447265625,\n",
       "  54.79026794433594,\n",
       "  54.66814041137695,\n",
       "  54.54720687866211,\n",
       "  54.42403793334961,\n",
       "  54.30245590209961,\n",
       "  54.180023193359375,\n",
       "  54.055545806884766,\n",
       "  53.932804107666016,\n",
       "  53.81337356567383,\n",
       "  53.69212341308594,\n",
       "  53.574649810791016,\n",
       "  53.45920944213867,\n",
       "  53.34419250488281,\n",
       "  53.229957580566406,\n",
       "  53.11976623535156,\n",
       "  53.009761810302734,\n",
       "  52.902618408203125,\n",
       "  52.79767990112305,\n",
       "  52.69431686401367,\n",
       "  52.593936920166016,\n",
       "  52.49784851074219,\n",
       "  52.404666900634766,\n",
       "  52.313987731933594,\n",
       "  52.227237701416016,\n",
       "  52.1419677734375,\n",
       "  52.061458587646484,\n",
       "  51.98141098022461,\n",
       "  51.90785217285156,\n",
       "  51.83647918701172,\n",
       "  51.76715850830078,\n",
       "  51.701171875,\n",
       "  51.639190673828125,\n",
       "  51.579524993896484,\n",
       "  51.52299499511719,\n",
       "  51.47004699707031,\n",
       "  51.41933059692383,\n",
       "  51.36992263793945,\n",
       "  51.323490142822266,\n",
       "  51.2789306640625,\n",
       "  51.238033294677734,\n",
       "  51.1987419128418,\n",
       "  51.16102600097656,\n",
       "  51.125511169433594,\n",
       "  51.09278869628906,\n",
       "  51.06184387207031,\n",
       "  51.03353500366211,\n",
       "  51.00638198852539,\n",
       "  50.98102569580078,\n",
       "  50.95769119262695,\n",
       "  50.93534851074219,\n",
       "  50.91416549682617,\n",
       "  50.8941650390625,\n",
       "  50.87580108642578,\n",
       "  50.85810852050781,\n",
       "  50.841773986816406,\n",
       "  50.826141357421875,\n",
       "  50.811187744140625,\n",
       "  50.79734420776367,\n",
       "  50.78373718261719,\n",
       "  50.771541595458984,\n",
       "  50.75927734375,\n",
       "  50.74806213378906,\n",
       "  50.737247467041016,\n",
       "  50.72697448730469,\n",
       "  50.71687316894531,\n",
       "  50.7080078125,\n",
       "  50.69915008544922,\n",
       "  50.69098663330078,\n",
       "  50.68308639526367,\n",
       "  50.675655364990234],\n",
       " 'mae': [7.116879940032959,\n",
       "  7.110667705535889,\n",
       "  7.10488224029541,\n",
       "  7.099099159240723,\n",
       "  7.093628406524658,\n",
       "  7.088564395904541,\n",
       "  7.083805561065674,\n",
       "  7.079171657562256,\n",
       "  7.07503604888916,\n",
       "  7.070847988128662,\n",
       "  7.066958427429199,\n",
       "  7.063114166259766,\n",
       "  7.0588698387146,\n",
       "  7.0548787117004395,\n",
       "  7.050779342651367,\n",
       "  7.04641580581665,\n",
       "  7.0421061515808105,\n",
       "  7.0370097160339355,\n",
       "  7.0316901206970215,\n",
       "  7.026164531707764,\n",
       "  7.020331382751465,\n",
       "  7.0142669677734375,\n",
       "  7.007852554321289,\n",
       "  7.001009464263916,\n",
       "  6.993765830993652,\n",
       "  6.985748291015625,\n",
       "  6.977451324462891,\n",
       "  6.969273567199707,\n",
       "  6.961036205291748,\n",
       "  6.952770233154297,\n",
       "  6.9445977210998535,\n",
       "  6.936219692230225,\n",
       "  6.9276275634765625,\n",
       "  6.9189677238464355,\n",
       "  6.910377025604248,\n",
       "  6.901644706726074,\n",
       "  6.892700672149658,\n",
       "  6.8838887214660645,\n",
       "  6.875070095062256,\n",
       "  6.866255283355713,\n",
       "  6.8576579093933105,\n",
       "  6.848918437957764,\n",
       "  6.840219497680664,\n",
       "  6.831732273101807,\n",
       "  6.823224067687988,\n",
       "  6.814813613891602,\n",
       "  6.806634902954102,\n",
       "  6.79854679107666,\n",
       "  6.790560245513916,\n",
       "  6.782843589782715,\n",
       "  6.775320053100586,\n",
       "  6.76793098449707,\n",
       "  6.760740756988525,\n",
       "  6.753664016723633,\n",
       "  6.746934413909912,\n",
       "  6.740349769592285,\n",
       "  6.733900547027588,\n",
       "  6.727808952331543,\n",
       "  6.722066879272461,\n",
       "  6.716403961181641,\n",
       "  6.710905075073242,\n",
       "  6.7057414054870605,\n",
       "  6.70084285736084,\n",
       "  6.696140289306641,\n",
       "  6.691788196563721,\n",
       "  6.6874823570251465,\n",
       "  6.683343887329102,\n",
       "  6.679445743560791,\n",
       "  6.675678253173828,\n",
       "  6.6722412109375,\n",
       "  6.668930530548096,\n",
       "  6.66573429107666,\n",
       "  6.662740707397461,\n",
       "  6.65999698638916,\n",
       "  6.65737247467041,\n",
       "  6.654975414276123,\n",
       "  6.652703285217285,\n",
       "  6.6505584716796875,\n",
       "  6.648592472076416,\n",
       "  6.646688461303711,\n",
       "  6.644915580749512,\n",
       "  6.643214225769043,\n",
       "  6.641679763793945,\n",
       "  6.640163421630859,\n",
       "  6.638794422149658,\n",
       "  6.637472152709961,\n",
       "  6.636199474334717,\n",
       "  6.635036468505859,\n",
       "  6.633884429931641,\n",
       "  6.6328582763671875,\n",
       "  6.631827354431152,\n",
       "  6.6308722496032715,\n",
       "  6.629956245422363,\n",
       "  6.629096031188965,\n",
       "  6.628253936767578,\n",
       "  6.627506732940674,\n",
       "  6.626755237579346,\n",
       "  6.626068592071533,\n",
       "  6.625402450561523,\n",
       "  6.624783515930176],\n",
       " 'r2_score': [-7.207434177398682,\n",
       "  -7.1922430992126465,\n",
       "  -7.1786041259765625,\n",
       "  -7.164463043212891,\n",
       "  -7.151027679443359,\n",
       "  -7.138845920562744,\n",
       "  -7.127268314361572,\n",
       "  -7.115541934967041,\n",
       "  -7.105342864990234,\n",
       "  -7.094592571258545,\n",
       "  -7.08472204208374,\n",
       "  -7.075201511383057,\n",
       "  -7.064304351806641,\n",
       "  -7.054168701171875,\n",
       "  -7.043824672698975,\n",
       "  -7.032810688018799,\n",
       "  -7.022219181060791,\n",
       "  -7.009525299072266,\n",
       "  -6.996547698974609,\n",
       "  -6.983208179473877,\n",
       "  -6.969188690185547,\n",
       "  -6.954746246337891,\n",
       "  -6.9398579597473145,\n",
       "  -6.923805236816406,\n",
       "  -6.9073638916015625,\n",
       "  -6.890255451202393,\n",
       "  -6.873103618621826,\n",
       "  -6.856176853179932,\n",
       "  -6.83928918838501,\n",
       "  -6.822695255279541,\n",
       "  -6.806185245513916,\n",
       "  -6.7888007164001465,\n",
       "  -6.771571636199951,\n",
       "  -6.753995418548584,\n",
       "  -6.736684322357178,\n",
       "  -6.719240665435791,\n",
       "  -6.7015061378479,\n",
       "  -6.684017658233643,\n",
       "  -6.667002201080322,\n",
       "  -6.649744033813477,\n",
       "  -6.632991790771484,\n",
       "  -6.6165547370910645,\n",
       "  -6.600156307220459,\n",
       "  -6.583881378173828,\n",
       "  -6.56818151473999,\n",
       "  -6.552504062652588,\n",
       "  -6.537242889404297,\n",
       "  -6.5222930908203125,\n",
       "  -6.507565975189209,\n",
       "  -6.493269443511963,\n",
       "  -6.47958517074585,\n",
       "  -6.466298580169678,\n",
       "  -6.453380107879639,\n",
       "  -6.441019535064697,\n",
       "  -6.428870677947998,\n",
       "  -6.417415618896484,\n",
       "  -6.40600061416626,\n",
       "  -6.3955206871032715,\n",
       "  -6.38534688949585,\n",
       "  -6.375471115112305,\n",
       "  -6.366079807281494,\n",
       "  -6.357238292694092,\n",
       "  -6.348743438720703,\n",
       "  -6.340692520141602,\n",
       "  -6.3331298828125,\n",
       "  -6.32591438293457,\n",
       "  -6.318864345550537,\n",
       "  -6.312254428863525,\n",
       "  -6.305911540985107,\n",
       "  -6.300084590911865,\n",
       "  -6.294490337371826,\n",
       "  -6.289122104644775,\n",
       "  -6.284067630767822,\n",
       "  -6.279395580291748,\n",
       "  -6.274986743927002,\n",
       "  -6.270948886871338,\n",
       "  -6.26708459854126,\n",
       "  -6.2634663581848145,\n",
       "  -6.260143280029297,\n",
       "  -6.256964206695557,\n",
       "  -6.253950595855713,\n",
       "  -6.251091003417969,\n",
       "  -6.248475551605225,\n",
       "  -6.245954990386963,\n",
       "  -6.243621826171875,\n",
       "  -6.241405963897705,\n",
       "  -6.239269256591797,\n",
       "  -6.237306594848633,\n",
       "  -6.235373020172119,\n",
       "  -6.233625888824463,\n",
       "  -6.231868743896484,\n",
       "  -6.23028039932251,\n",
       "  -6.228724002838135,\n",
       "  -6.227270603179932,\n",
       "  -6.225847244262695,\n",
       "  -6.224569320678711,\n",
       "  -6.223302364349365,\n",
       "  -6.22214937210083,\n",
       "  -6.2210235595703125,\n",
       "  -6.219959259033203]}"
      ]
     },
     "execution_count": 39,
     "metadata": {},
     "output_type": "execute_result"
    }
   ],
   "source": [
    "history.history"
   ]
  },
  {
   "cell_type": "code",
   "execution_count": null,
   "id": "d1e7c56e-301e-47ea-b023-3e93f14a2027",
   "metadata": {},
   "outputs": [],
   "source": []
  },
  {
   "cell_type": "code",
   "execution_count": 40,
   "id": "4ebcd959-9d3b-4e38-8f4b-096325d6a728",
   "metadata": {},
   "outputs": [
    {
     "name": "stdout",
     "output_type": "stream",
     "text": [
      "Epoch 0 - Loss: 57.606571197509766\n",
      "Epoch 1 - Loss: 57.499942779541016\n",
      "Epoch 2 - Loss: 57.40422058105469\n",
      "Epoch 3 - Loss: 57.30496597290039\n",
      "Epoch 4 - Loss: 57.21058654785156\n",
      "Epoch 5 - Loss: 57.12527847290039\n",
      "Epoch 6 - Loss: 57.043827056884766\n",
      "Epoch 7 - Loss: 56.96159362792969\n",
      "Epoch 8 - Loss: 56.890052795410156\n",
      "Epoch 9 - Loss: 56.81450271606445\n",
      "Epoch 10 - Loss: 56.74518966674805\n",
      "Epoch 11 - Loss: 56.678375244140625\n",
      "Epoch 12 - Loss: 56.60200119018555\n",
      "Epoch 13 - Loss: 56.5307502746582\n",
      "Epoch 14 - Loss: 56.458213806152344\n",
      "Epoch 15 - Loss: 56.380916595458984\n",
      "Epoch 16 - Loss: 56.30646514892578\n",
      "Epoch 17 - Loss: 56.217437744140625\n",
      "Epoch 18 - Loss: 56.12639617919922\n",
      "Epoch 19 - Loss: 56.03269577026367\n",
      "Epoch 20 - Loss: 55.934364318847656\n",
      "Epoch 21 - Loss: 55.833072662353516\n",
      "Epoch 22 - Loss: 55.72858428955078\n",
      "Epoch 23 - Loss: 55.615745544433594\n",
      "Epoch 24 - Loss: 55.500431060791016\n",
      "Epoch 25 - Loss: 55.38035202026367\n",
      "Epoch 26 - Loss: 55.2599983215332\n",
      "Epoch 27 - Loss: 55.141082763671875\n",
      "Epoch 28 - Loss: 55.0225944519043\n",
      "Epoch 29 - Loss: 54.906158447265625\n",
      "Epoch 30 - Loss: 54.79026794433594\n",
      "Epoch 31 - Loss: 54.66814041137695\n",
      "Epoch 32 - Loss: 54.54720687866211\n",
      "Epoch 33 - Loss: 54.42403793334961\n",
      "Epoch 34 - Loss: 54.30245590209961\n",
      "Epoch 35 - Loss: 54.180023193359375\n",
      "Epoch 36 - Loss: 54.055545806884766\n",
      "Epoch 37 - Loss: 53.932804107666016\n",
      "Epoch 38 - Loss: 53.81337356567383\n",
      "Epoch 39 - Loss: 53.69212341308594\n",
      "Epoch 40 - Loss: 53.574649810791016\n",
      "Epoch 41 - Loss: 53.45920944213867\n",
      "Epoch 42 - Loss: 53.34419250488281\n",
      "Epoch 43 - Loss: 53.229957580566406\n",
      "Epoch 44 - Loss: 53.11976623535156\n",
      "Epoch 45 - Loss: 53.009761810302734\n",
      "Epoch 46 - Loss: 52.902618408203125\n",
      "Epoch 47 - Loss: 52.79767990112305\n",
      "Epoch 48 - Loss: 52.69431686401367\n",
      "Epoch 49 - Loss: 52.593936920166016\n",
      "Epoch 50 - Loss: 52.49784851074219\n",
      "Epoch 51 - Loss: 52.404666900634766\n",
      "Epoch 52 - Loss: 52.313987731933594\n",
      "Epoch 53 - Loss: 52.227237701416016\n",
      "Epoch 54 - Loss: 52.1419677734375\n",
      "Epoch 55 - Loss: 52.061458587646484\n",
      "Epoch 56 - Loss: 51.98141098022461\n",
      "Epoch 57 - Loss: 51.90785217285156\n",
      "Epoch 58 - Loss: 51.83647918701172\n",
      "Epoch 59 - Loss: 51.76715850830078\n",
      "Epoch 60 - Loss: 51.701171875\n",
      "Epoch 61 - Loss: 51.639190673828125\n",
      "Epoch 62 - Loss: 51.579524993896484\n",
      "Epoch 63 - Loss: 51.52299499511719\n",
      "Epoch 64 - Loss: 51.47004699707031\n",
      "Epoch 65 - Loss: 51.41933059692383\n",
      "Epoch 66 - Loss: 51.36992263793945\n",
      "Epoch 67 - Loss: 51.323490142822266\n",
      "Epoch 68 - Loss: 51.2789306640625\n",
      "Epoch 69 - Loss: 51.238033294677734\n",
      "Epoch 70 - Loss: 51.1987419128418\n",
      "Epoch 71 - Loss: 51.16102600097656\n",
      "Epoch 72 - Loss: 51.125511169433594\n",
      "Epoch 73 - Loss: 51.09278869628906\n",
      "Epoch 74 - Loss: 51.06184387207031\n",
      "Epoch 75 - Loss: 51.03353500366211\n",
      "Epoch 76 - Loss: 51.00638198852539\n",
      "Epoch 77 - Loss: 50.98102569580078\n",
      "Epoch 78 - Loss: 50.95769119262695\n",
      "Epoch 79 - Loss: 50.93534851074219\n",
      "Epoch 80 - Loss: 50.91416549682617\n",
      "Epoch 81 - Loss: 50.8941650390625\n",
      "Epoch 82 - Loss: 50.87580108642578\n",
      "Epoch 83 - Loss: 50.85810852050781\n",
      "Epoch 84 - Loss: 50.841773986816406\n",
      "Epoch 85 - Loss: 50.826141357421875\n",
      "Epoch 86 - Loss: 50.811187744140625\n",
      "Epoch 87 - Loss: 50.79734420776367\n",
      "Epoch 88 - Loss: 50.78373718261719\n",
      "Epoch 89 - Loss: 50.771541595458984\n",
      "Epoch 90 - Loss: 50.75927734375\n",
      "Epoch 91 - Loss: 50.74806213378906\n",
      "Epoch 92 - Loss: 50.737247467041016\n",
      "Epoch 93 - Loss: 50.72697448730469\n",
      "Epoch 94 - Loss: 50.71687316894531\n",
      "Epoch 95 - Loss: 50.7080078125\n",
      "Epoch 96 - Loss: 50.69915008544922\n",
      "Epoch 97 - Loss: 50.69098663330078\n",
      "Epoch 98 - Loss: 50.68308639526367\n",
      "Epoch 99 - Loss: 50.675655364990234\n"
     ]
    }
   ],
   "source": [
    "for i,l in enumerate(history.history[\"loss\"]):\n",
    "    print(f\"Epoch {i} - Loss: {l}\")"
   ]
  },
  {
   "cell_type": "code",
   "execution_count": null,
   "id": "13d98cae-5df4-4446-8b94-19bb2235656a",
   "metadata": {},
   "outputs": [],
   "source": []
  },
  {
   "cell_type": "code",
   "execution_count": 41,
   "id": "40fa8d22-434b-4030-8473-22f17a9661bd",
   "metadata": {},
   "outputs": [],
   "source": [
    "from matplotlib import pyplot as plt"
   ]
  },
  {
   "cell_type": "raw",
   "id": "253fa135-f197-4e0d-b856-fbc3d151123a",
   "metadata": {},
   "source": []
  },
  {
   "cell_type": "code",
   "execution_count": 42,
   "id": "dcb770ed-d6fd-48a2-b1d7-61d9c79b519d",
   "metadata": {},
   "outputs": [
    {
     "data": {
      "text/plain": [
       "[<matplotlib.lines.Line2D at 0x78dce3280580>]"
      ]
     },
     "execution_count": 42,
     "metadata": {},
     "output_type": "execute_result"
    },
    {
     "data": {
      "image/png": "[encoded data removed]",
      "text/plain": [
       "<Figure size 640x480 with 1 Axes>"
      ]
     },
     "metadata": {},
     "output_type": "display_data"
    }
   ],
   "source": [
    "# Learning Curve \n",
    "plt.plot(list(range(100)), history.history[\"loss\"])"
   ]
  },
  {
   "cell_type": "code",
   "execution_count": null,
   "id": "84952bb2-acde-4031-88e9-1ed03f955bfd",
   "metadata": {},
   "outputs": [],
   "source": []
  },
  {
   "cell_type": "code",
   "execution_count": 43,
   "id": "de28950f-b20d-4881-86d6-93249e4e0030",
   "metadata": {},
   "outputs": [
    {
     "data": {
      "text/plain": [
       "[<matplotlib.lines.Line2D at 0x78dce304dbb0>]"
      ]
     },
     "execution_count": 43,
     "metadata": {},
     "output_type": "execute_result"
    },
    {
     "data": {
      "image/png": "[encoded data removed]",
      "text/plain": [
       "<Figure size 640x480 with 1 Axes>"
      ]
     },
     "metadata": {},
     "output_type": "display_data"
    }
   ],
   "source": [
    "plt.plot(list(range(100)), history.history[\"r2_score\"])"
   ]
  },
  {
   "cell_type": "code",
   "execution_count": null,
   "id": "a71d7170-11e8-470b-b8c1-2b7c04794fd8",
   "metadata": {},
   "outputs": [],
   "source": []
  },
  {
   "cell_type": "code",
   "execution_count": null,
   "id": "bf47b657-6693-422c-bd41-d51157597c28",
   "metadata": {},
   "outputs": [],
   "source": []
  },
  {
   "cell_type": "markdown",
   "id": "1184b1e4-0430-4f8e-8a84-80d01baa96ef",
   "metadata": {},
   "source": [
    "# Get the weight from within the model "
   ]
  },
  {
   "cell_type": "code",
   "execution_count": null,
   "id": "f1af459d-888f-49ed-936b-9eec14dc1b57",
   "metadata": {},
   "outputs": [],
   "source": []
  },
  {
   "cell_type": "code",
   "execution_count": 44,
   "id": "b023c3fe-9278-4ded-bd5d-a261ab273477",
   "metadata": {},
   "outputs": [
    {
     "data": {
      "text/plain": [
       "array([[ 0.6290218 ,  0.02637443,  0.14394958, -0.20690145, -0.37508136,\n",
       "         0.5194447 ,  0.04805415,  0.5668179 ,  0.37107006,  0.552275  ,\n",
       "        -0.4092711 ,  0.33934173,  0.44036722, -0.6331948 , -0.32512683,\n",
       "         0.15066977, -0.7821472 ,  0.19692476,  0.3315572 , -0.46316567]],\n",
       "      dtype=float32)"
      ]
     },
     "execution_count": 44,
     "metadata": {},
     "output_type": "execute_result"
    }
   ],
   "source": [
    "# bfore\n",
    "model.layers[0].weights[0].numpy()"
   ]
  },
  {
   "cell_type": "code",
   "execution_count": null,
   "id": "635473e3-a588-4c8e-9be4-cecc9b647a04",
   "metadata": {},
   "outputs": [],
   "source": []
  },
  {
   "cell_type": "code",
   "execution_count": 45,
   "id": "0e08985c-50c4-4b63-be34-34d932732625",
   "metadata": {},
   "outputs": [
    {
     "data": {
      "text/plain": [
       "array([[ 0.6290218 ,  0.02637443,  0.14394958, -0.20690145, -0.37508136,\n",
       "         0.5194447 ,  0.04805415,  0.5668179 ,  0.37107006,  0.552275  ,\n",
       "        -0.4092711 ,  0.33934173,  0.44036722, -0.6331948 , -0.32512683,\n",
       "         0.15066977, -0.7821472 ,  0.19692476,  0.3315572 , -0.46316567]],\n",
       "      dtype=float32)"
      ]
     },
     "execution_count": 45,
     "metadata": {},
     "output_type": "execute_result"
    }
   ],
   "source": [
    "# bfore\n",
    "model.layers[0].weights[0].numpy()"
   ]
  },
  {
   "cell_type": "code",
   "execution_count": null,
   "id": "ef3466e1-9fc6-4935-8b45-5d46c9c02c73",
   "metadata": {},
   "outputs": [],
   "source": []
  },
  {
   "cell_type": "code",
   "execution_count": null,
   "id": "9c1e0ea6-c7b9-4777-8229-4d5cf59e7793",
   "metadata": {},
   "outputs": [],
   "source": []
  },
  {
   "cell_type": "code",
   "execution_count": null,
   "id": "99c020c0-2a18-4827-b740-376e89600841",
   "metadata": {},
   "outputs": [],
   "source": []
  },
  {
   "cell_type": "code",
   "execution_count": null,
   "id": "bcdafc3d-fdd3-41b7-acba-c1da2fd53e21",
   "metadata": {},
   "outputs": [],
   "source": []
  }
 ],
 "metadata": {
  "kernelspec": {
   "display_name": "(03) Python 3.9 (TensorFlow)",
   "language": "python",
   "name": "py39_tensorflow"
  },
  "language_info": {
   "codemirror_mode": {
    "name": "ipython",
    "version": 3
   },
   "file_extension": ".py",
   "mimetype": "text/x-python",
   "name": "python",
   "nbconvert_exporter": "python",
   "pygments_lexer": "ipython3",
   "version": "3.9.23"
  }
 },
 "nbformat": 4,
 "nbformat_minor": 5
}
