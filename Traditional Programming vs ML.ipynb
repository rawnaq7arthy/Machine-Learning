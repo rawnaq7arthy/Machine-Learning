{
 "cells": [
  {
   "cell_type": "markdown",
   "id": "becf132f-c2eb-4d5e-9208-c6d1d7983e96",
   "metadata": {},
   "source": [
    "**Traditional Programming (Rule-Based)**"
   ]
  },
  {
   "cell_type": "code",
   "execution_count": 1,
   "id": "f03cdc5a-d731-40ff-9206-609a20fc435c",
   "metadata": {},
   "outputs": [
    {
     "name": "stdout",
     "output_type": "stream",
     "text": [
      "Estimated Sales (Rule-Based): $1125.00\n"
     ]
    }
   ],
   "source": [
    "# Traditional rule-based function\n",
    "def estimate_sales(customers, ads):\n",
    "    return customers * 10 + ads * 1.5  # Example rule\n",
    "\n",
    "# Example usage\n",
    "cust = 60\n",
    "ads = 350\n",
    "\n",
    "estimated = estimate_sales(cust, ads)\n",
    "print(f\"Estimated Sales (Rule-Based): ${estimated:.2f}\")"
   ]
  },
  {
   "cell_type": "markdown",
   "id": "627ceccd-1c6d-47c8-bdab-19d7d454f1b2",
   "metadata": {},
   "source": [
    "**Categorize Customer Type Based on Rules**"
   ]
  },
  {
   "cell_type": "code",
   "execution_count": 2,
   "id": "e43ac918-b074-4ef6-9e65-c8cf4e385707",
   "metadata": {},
   "outputs": [
    {
     "name": "stdout",
     "output_type": "stream",
     "text": [
      "Customer Category (Rule-Based): Loyal Customer\n"
     ]
    }
   ],
   "source": [
    "def categorize_customer(age, time_in_store, used_coupon):\n",
    "    if time_in_store > 20 and used_coupon:\n",
    "        return 'Loyal Customer'\n",
    "    elif used_coupon:\n",
    "        return 'Bargain Hunter'\n",
    "    elif time_in_store < 10:\n",
    "        return 'Window Shopper'\n",
    "    else:\n",
    "        return 'Regular'\n",
    "\n",
    "# Example usage\n",
    "age = 30\n",
    "time = 25\n",
    "coupon = 1\n",
    "\n",
    "category = categorize_customer(age, time, coupon)\n",
    "print(f\"Customer Category (Rule-Based): {category}\")\n"
   ]
  },
  {
   "cell_type": "markdown",
   "id": "69075479-4418-4554-9b8b-44e9b2577c09",
   "metadata": {},
   "source": [
    "**Machine Learning Approach**"
   ]
  },
  {
   "cell_type": "code",
   "execution_count": 3,
   "id": "c61bc5e6-a2ef-4c98-b619-6e994d3be847",
   "metadata": {},
   "outputs": [
    {
     "name": "stdout",
     "output_type": "stream",
     "text": [
      "Predicted Sales (ML Model): $1130.00\n"
     ]
    }
   ],
   "source": [
    "import numpy as np\n",
    "from sklearn.linear_model import LinearRegression\n",
    "\n",
    "# Training data: [customers, ad_spend]\n",
    "X_regression = np.array([\n",
    "    [30, 200],\n",
    "    [50, 300],\n",
    "    [70, 400],\n",
    "    [90, 500],\n",
    "    [110, 600]\n",
    "])\n",
    "y_regression = np.array([600, 900, 1300, 1700, 2100])  # sales in $\n",
    "\n",
    "# Train ML model\n",
    "reg_model = LinearRegression()\n",
    "reg_model.fit(X_regression, y_regression)\n",
    "\n",
    "# Predict\n",
    "cust = 60\n",
    "ads = 350\n",
    "predicted_sales = reg_model.predict([[cust, ads]])[0]\n",
    "print(f\"Predicted Sales (ML Model): ${predicted_sales:.2f}\")\n"
   ]
  },
  {
   "cell_type": "markdown",
   "id": "42cf3ea5-9e2b-4566-8759-59d6fe94c637",
   "metadata": {},
   "source": [
    "**Predict Customer Type Using Classification (ML)**"
   ]
  },
  {
   "cell_type": "code",
   "execution_count": 4,
   "id": "bb2fa0be-0f8f-4319-9e2b-bbe44e469bba",
   "metadata": {},
   "outputs": [
    {
     "name": "stdout",
     "output_type": "stream",
     "text": [
      "Predicted Customer Type (ML Model): Loyal Customer\n"
     ]
    }
   ],
   "source": [
    "from sklearn.tree import DecisionTreeClassifier\n",
    "\n",
    "# Data: [age, time_in_store, used_coupon]\n",
    "X_classification = np.array([\n",
    "    [25, 5, 0],\n",
    "    [35, 20, 1],\n",
    "    [50, 10, 0],\n",
    "    [28, 30, 1],\n",
    "])\n",
    "y_classification = np.array([\n",
    "    'Window Shopper',\n",
    "    'Bargain Hunter',\n",
    "    'Regular',\n",
    "    'Loyal Customer'\n",
    "])\n",
    "\n",
    "# Train classifier\n",
    "clf = DecisionTreeClassifier()\n",
    "clf.fit(X_classification, y_classification)\n",
    "\n",
    "# Predict\n",
    "new_customer = [[30, 25, 1]]\n",
    "predicted_type = clf.predict(new_customer)[0]\n",
    "print(f\"Predicted Customer Type (ML Model): {predicted_type}\")\n"
   ]
  },
  {
   "cell_type": "code",
   "execution_count": null,
   "id": "f6ac309c-0195-43f6-93fb-f53aac4a1102",
   "metadata": {},
   "outputs": [],
   "source": []
  }
 ],
 "metadata": {
  "kernelspec": {
   "display_name": "Python [conda env:base] *",
   "language": "python",
   "name": "conda-base-py"
  },
  "language_info": {
   "codemirror_mode": {
    "name": "ipython",
    "version": 3
   },
   "file_extension": ".py",
   "mimetype": "text/x-python",
   "name": "python",
   "nbconvert_exporter": "python",
   "pygments_lexer": "ipython3",
   "version": "3.12.7"
  }
 },
 "nbformat": 4,
 "nbformat_minor": 5
}
