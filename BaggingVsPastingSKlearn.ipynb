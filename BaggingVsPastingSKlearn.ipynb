{
 "cells": [
  {
   "cell_type": "code",
   "execution_count": 1,
   "id": "d59e33a9-4fe9-4c6e-94fa-ce50cf552ca9",
   "metadata": {},
   "outputs": [],
   "source": [
    "from sklearn.ensemble import BaggingClassifier, BaggingRegressor\n",
    "from sklearn.tree import DecisionTreeClassifier, DecisionTreeRegressor\n",
    "from sklearn.datasets import make_classification, make_regression\n",
    "from sklearn.model_selection import train_test_split\n",
    "from sklearn.metrics import accuracy_score, mean_squared_error\n",
    "import numpy as np"
   ]
  },
  {
   "cell_type": "code",
   "execution_count": 13,
   "id": "5788a632-5806-4dfe-b045-0b137141df90",
   "metadata": {},
   "outputs": [],
   "source": [
    "# Classification dataset with more features and classes\n",
    "X_clf, y_clf = make_classification(\n",
    "    n_samples=1200, n_features=25, n_informative=15, n_redundant=5,\n",
    "    n_classes=3, flip_y=0.1, class_sep=1.5, random_state=7\n",
    ")\n",
    "X_train, X_test, y_train, y_test = train_test_split(X_clf, y_clf, test_size=0.15, random_state=7)\n"
   ]
  },
  {
   "cell_type": "code",
   "execution_count": 14,
   "id": "b7ae6339-4c36-4697-aeff-3ea5f32873b0",
   "metadata": {},
   "outputs": [],
   "source": [
    "# BaggingClassifier with changed parameters\n",
    "bagging_clf = BaggingClassifier(\n",
    "    DecisionTreeClassifier(max_depth=8, min_samples_split=5),\n",
    "    n_estimators=20,\n",
    "    bootstrap=True,  # Bagging\n",
    "    max_samples=0.8,\n",
    "    max_features=0.7,\n",
    "    random_state=7\n",
    ")\n",
    "bagging_clf.fit(X_train, y_train)\n",
    "y_pred_bagging = bagging_clf.predict(X_test)\n",
    "acc_bagging = accuracy_score(y_test, y_pred_bagging)\n"
   ]
  },
  {
   "cell_type": "code",
   "execution_count": 15,
   "id": "13fcb517-b68a-48d7-a8ab-889ad7e47ef8",
   "metadata": {},
   "outputs": [
    {
     "name": "stdout",
     "output_type": "stream",
     "text": [
      "BaggingClassifier (Bagging) Accuracy: 0.844\n",
      "BaggingClassifier (Pasting) Accuracy: 0.806\n"
     ]
    }
   ],
   "source": [
    "# Pasting classifier with different parameters\n",
    "pasting_clf = BaggingClassifier(\n",
    "    DecisionTreeClassifier(max_depth=8, min_samples_split=5),\n",
    "    n_estimators=20,\n",
    "    bootstrap=False,  # Pasting\n",
    "    max_samples=0.9,\n",
    "    max_features=0.8,\n",
    "    random_state=7\n",
    ")\n",
    "pasting_clf.fit(X_train, y_train)\n",
    "y_pred_pasting = pasting_clf.predict(X_test)\n",
    "acc_pasting = accuracy_score(y_test, y_pred_pasting)\n",
    "\n",
    "print(f\"BaggingClassifier (Bagging) Accuracy: {acc_bagging:.3f}\")\n",
    "print(f\"BaggingClassifier (Pasting) Accuracy: {acc_pasting:.3f}\")"
   ]
  },
  {
   "cell_type": "code",
   "execution_count": 16,
   "id": "7fbe63cc-3f3f-4020-b052-cdf671c9c7a9",
   "metadata": {},
   "outputs": [],
   "source": [
    "# Regression dataset with higher noise and more features\n",
    "X_reg, y_reg = make_regression(\n",
    "    n_samples=1200, n_features=25, noise=5.0, random_state=7\n",
    ")\n",
    "X_train_r, X_test_r, y_train_r, y_test_r = train_test_split(X_reg, y_reg, test_size=0.25, random_state=7)"
   ]
  },
  {
   "cell_type": "code",
   "execution_count": 17,
   "id": "e635c926-39c2-4726-b7cb-75ea9ce008b0",
   "metadata": {},
   "outputs": [],
   "source": [
    "# BaggingRegressor with changed parameters\n",
    "bagging_reg = BaggingRegressor(\n",
    "    DecisionTreeRegressor(max_depth=10, min_samples_leaf=4),\n",
    "    n_estimators=25,\n",
    "    bootstrap=True,  # Bagging\n",
    "    max_samples=0.75,\n",
    "    max_features=0.75,\n",
    "    random_state=7\n",
    ")\n",
    "bagging_reg.fit(X_train_r, y_train_r)\n",
    "y_pred_bagging_r = bagging_reg.predict(X_test_r)\n",
    "mse_bagging = mean_squared_error(y_test_r, y_pred_bagging_r)"
   ]
  },
  {
   "cell_type": "code",
   "execution_count": 18,
   "id": "f87679c2-e7cd-4e8f-a20f-da96d2fb2848",
   "metadata": {},
   "outputs": [
    {
     "name": "stdout",
     "output_type": "stream",
     "text": [
      "BaggingRegressor (Bagging) MSE: 6741.91\n",
      "BaggingRegressor (Pasting) MSE: 5682.44\n"
     ]
    }
   ],
   "source": [
    "# Pasting regressor with changed parameters\n",
    "pasting_reg = BaggingRegressor(\n",
    "    DecisionTreeRegressor(max_depth=10, min_samples_leaf=4),\n",
    "    n_estimators=25,\n",
    "    bootstrap=False,  # Pasting\n",
    "    max_samples=0.85,\n",
    "    max_features=0.85,\n",
    "    random_state=7\n",
    ")\n",
    "pasting_reg.fit(X_train_r, y_train_r)\n",
    "y_pred_pasting_r = pasting_reg.predict(X_test_r)\n",
    "mse_pasting = mean_squared_error(y_test_r, y_pred_pasting_r)\n",
    "\n",
    "print(f\"BaggingRegressor (Bagging) MSE: {mse_bagging:.2f}\")\n",
    "print(f\"BaggingRegressor (Pasting) MSE: {mse_pasting:.2f}\")\n"
   ]
  },
  {
   "cell_type": "code",
   "execution_count": null,
   "id": "697aa161-2ebe-4523-bbd0-14b3d33e24f9",
   "metadata": {},
   "outputs": [],
   "source": []
  }
 ],
 "metadata": {
  "kernelspec": {
   "display_name": "(03) Python 3.9 (TensorFlow)",
   "language": "python",
   "name": "py39_tensorflow"
  },
  "language_info": {
   "codemirror_mode": {
    "name": "ipython",
    "version": 3
   },
   "file_extension": ".py",
   "mimetype": "text/x-python",
   "name": "python",
   "nbconvert_exporter": "python",
   "pygments_lexer": "ipython3",
   "version": "3.9.23"
  }
 },
 "nbformat": 4,
 "nbformat_minor": 5
}
