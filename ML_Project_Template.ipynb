{
 "cells": [
  {
   "cell_type": "markdown",
   "id": "de442506",
   "metadata": {},
   "source": [
    "# Machine Learning Project Template\n",
    "* This notebook provides a structured template for building an end-to-end machine learning project.\n",
    "* Re-use this notebook througout your learning and in capstone project"
   ]
  },
  {
   "cell_type": "markdown",
   "id": "e0d85653",
   "metadata": {},
   "source": [
    "## <b> <font color=green> STEP (1) Problem Definition, Scoping & Framing </font> </b>"
   ]
  },
  {
   "cell_type": "markdown",
   "id": "96c4b4ec",
   "metadata": {},
   "source": [
    "### 1.1) Load Libraries\n",
    "Import all necessary libraries for the project."
   ]
  },
  {
   "cell_type": "code",
   "execution_count": 1,
   "id": "fd871e1d-d81b-4ef8-b61c-7c131134b5ff",
   "metadata": {},
   "outputs": [
    {
     "name": "stdout",
     "output_type": "stream",
     "text": [
      "Requirement already satisfied: matplotlib in /home/rawnaqalharthy/.local/lib/python3.8/site-packages (3.7.5)\n",
      "Requirement already satisfied: python-dateutil>=2.7 in /home/rawnaqalharthy/.local/lib/python3.8/site-packages (from matplotlib) (2.9.0.post0)\n",
      "Requirement already satisfied: kiwisolver>=1.0.1 in /home/rawnaqalharthy/.local/lib/python3.8/site-packages (from matplotlib) (1.4.7)\n",
      "Requirement already satisfied: fonttools>=4.22.0 in /home/rawnaqalharthy/.local/lib/python3.8/site-packages (from matplotlib) (4.57.0)\n",
      "Requirement already satisfied: importlib-resources>=3.2.0; python_version < \"3.10\" in /home/rawnaqalharthy/.local/lib/python3.8/site-packages (from matplotlib) (6.4.5)\n",
      "Requirement already satisfied: contourpy>=1.0.1 in /home/rawnaqalharthy/.local/lib/python3.8/site-packages (from matplotlib) (1.1.1)\n",
      "Requirement already satisfied: packaging>=20.0 in /home/rawnaqalharthy/.local/lib/python3.8/site-packages (from matplotlib) (25.0)\n",
      "Requirement already satisfied: pillow>=6.2.0 in /home/rawnaqalharthy/.local/lib/python3.8/site-packages (from matplotlib) (10.4.0)\n",
      "Requirement already satisfied: pyparsing>=2.3.1 in /home/rawnaqalharthy/.local/lib/python3.8/site-packages (from matplotlib) (3.1.4)\n",
      "Requirement already satisfied: numpy<2,>=1.20 in /home/rawnaqalharthy/.local/lib/python3.8/site-packages (from matplotlib) (1.24.4)\n",
      "Requirement already satisfied: cycler>=0.10 in /home/rawnaqalharthy/.local/lib/python3.8/site-packages (from matplotlib) (0.12.1)\n",
      "Requirement already satisfied: six>=1.5 in /home/rawnaqalharthy/.local/lib/python3.8/site-packages (from python-dateutil>=2.7->matplotlib) (1.17.0)\n",
      "Requirement already satisfied: zipp>=3.1.0; python_version < \"3.10\" in /home/rawnaqalharthy/.local/lib/python3.8/site-packages (from importlib-resources>=3.2.0; python_version < \"3.10\"->matplotlib) (3.20.2)\n"
     ]
    }
   ],
   "source": [
    "!pip install matplotlib"
   ]
  },
  {
   "cell_type": "code",
   "execution_count": 2,
   "id": "3be10869-f07f-4d56-9ce8-a2da25380355",
   "metadata": {
    "scrolled": true
   },
   "outputs": [
    {
     "name": "stdout",
     "output_type": "stream",
     "text": [
      "Requirement already satisfied: pandas in /home/rawnaqalharthy/.local/lib/python3.8/site-packages (2.0.3)\n",
      "Requirement already satisfied: tzdata>=2022.1 in /home/rawnaqalharthy/.local/lib/python3.8/site-packages (from pandas) (2025.2)\n",
      "Requirement already satisfied: python-dateutil>=2.8.2 in /home/rawnaqalharthy/.local/lib/python3.8/site-packages (from pandas) (2.9.0.post0)\n",
      "Requirement already satisfied: numpy>=1.20.3; python_version < \"3.10\" in /home/rawnaqalharthy/.local/lib/python3.8/site-packages (from pandas) (1.24.4)\n",
      "Requirement already satisfied: pytz>=2020.1 in /home/rawnaqalharthy/.local/lib/python3.8/site-packages (from pandas) (2025.2)\n",
      "Requirement already satisfied: six>=1.5 in /home/rawnaqalharthy/.local/lib/python3.8/site-packages (from python-dateutil>=2.8.2->pandas) (1.17.0)\n"
     ]
    }
   ],
   "source": [
    "!pip install pandas"
   ]
  },
  {
   "cell_type": "code",
   "execution_count": 11,
   "id": "e9bf752e",
   "metadata": {},
   "outputs": [
    {
     "ename": "ModuleNotFoundError",
     "evalue": "No module named 'matplotlib'",
     "output_type": "error",
     "traceback": [
      "\u001b[31m---------------------------------------------------------------------------\u001b[39m",
      "\u001b[31mModuleNotFoundError\u001b[39m                       Traceback (most recent call last)",
      "\u001b[36mCell\u001b[39m\u001b[36m \u001b[39m\u001b[32mIn[11]\u001b[39m\u001b[32m, line 3\u001b[39m\n\u001b[32m      1\u001b[39m \u001b[38;5;28;01mimport\u001b[39;00m\u001b[38;5;250m \u001b[39m\u001b[34;01mpandas\u001b[39;00m\u001b[38;5;250m \u001b[39m\u001b[38;5;28;01mas\u001b[39;00m\u001b[38;5;250m \u001b[39m\u001b[34;01mpd\u001b[39;00m\n\u001b[32m      2\u001b[39m \u001b[38;5;28;01mimport\u001b[39;00m\u001b[38;5;250m \u001b[39m\u001b[34;01mnumpy\u001b[39;00m\u001b[38;5;250m \u001b[39m\u001b[38;5;28;01mas\u001b[39;00m\u001b[38;5;250m \u001b[39m\u001b[34;01mnp\u001b[39;00m\n\u001b[32m----> \u001b[39m\u001b[32m3\u001b[39m \u001b[38;5;28;01mimport\u001b[39;00m\u001b[38;5;250m \u001b[39m\u001b[34;01mmatplotlib\u001b[39;00m\u001b[34;01m.\u001b[39;00m\u001b[34;01mpyplot\u001b[39;00m\u001b[38;5;250m \u001b[39m\u001b[38;5;28;01mas\u001b[39;00m\u001b[38;5;250m \u001b[39m\u001b[34;01mplt\u001b[39;00m\n\u001b[32m      4\u001b[39m \u001b[38;5;28;01mfrom\u001b[39;00m\u001b[38;5;250m \u001b[39m\u001b[34;01msklearn\u001b[39;00m\u001b[34;01m.\u001b[39;00m\u001b[34;01mutils\u001b[39;00m\u001b[34;01m.\u001b[39;00m\u001b[34;01mclass_weight\u001b[39;00m\u001b[38;5;250m \u001b[39m\u001b[38;5;28;01mimport\u001b[39;00m compute_class_weight\n\u001b[32m      5\u001b[39m \u001b[38;5;28;01mfrom\u001b[39;00m\u001b[38;5;250m \u001b[39m\u001b[34;01msklearn\u001b[39;00m\u001b[34;01m.\u001b[39;00m\u001b[34;01mtree\u001b[39;00m\u001b[38;5;250m \u001b[39m\u001b[38;5;28;01mimport\u001b[39;00m DecisionTreeClassifier, plot_tree\n",
      "\u001b[31mModuleNotFoundError\u001b[39m: No module named 'matplotlib'"
     ]
    }
   ],
   "source": [
    "import pandas as pd\n",
    "import numpy as np\n",
    "import matplotlib.pyplot as plt\n",
    "from sklearn.utils.class_weight import compute_class_weight\n",
    "from sklearn.tree import DecisionTreeClassifier, plot_tree\n",
    "from sklearn.ensemble import RandomForestClassifier\n",
    "from sklearn.metrics import confusion_matrix, classification_report, confusion_matrix, accuracy_score\n",
    "from sklearn.model_selection import train_test_split\n",
    "from sklearn.metrics import ConfusionMatrixDisplay\n",
    "from sklearn.feature_extraction.text import CountVectorizer"
   ]
  },
  {
   "cell_type": "markdown",
   "id": "f5dfbd75",
   "metadata": {},
   "source": [
    "### 1.2) Load The Dataset\n",
    "Load the dataset and display the first few rows."
   ]
  },
  {
   "cell_type": "code",
   "execution_count": 13,
   "id": "698af009",
   "metadata": {},
   "outputs": [
    {
     "data": {
      "text/html": [
       "<div>\n",
       "<style scoped>\n",
       "    .dataframe tbody tr th:only-of-type {\n",
       "        vertical-align: middle;\n",
       "    }\n",
       "\n",
       "    .dataframe tbody tr th {\n",
       "        vertical-align: top;\n",
       "    }\n",
       "\n",
       "    .dataframe thead th {\n",
       "        text-align: right;\n",
       "    }\n",
       "</style>\n",
       "<table border=\"1\" class=\"dataframe\">\n",
       "  <thead>\n",
       "    <tr style=\"text-align: right;\">\n",
       "      <th></th>\n",
       "      <th>Gender</th>\n",
       "      <th>HoursStudied/Week</th>\n",
       "      <th>Tutoring</th>\n",
       "      <th>Region</th>\n",
       "      <th>Attendance(%)</th>\n",
       "      <th>Parent Education</th>\n",
       "      <th>Exam_Score</th>\n",
       "    </tr>\n",
       "  </thead>\n",
       "  <tbody>\n",
       "    <tr>\n",
       "      <th>0</th>\n",
       "      <td>Male</td>\n",
       "      <td>5.5</td>\n",
       "      <td>No</td>\n",
       "      <td>Urban</td>\n",
       "      <td>72.7</td>\n",
       "      <td>Tertiary</td>\n",
       "      <td>43.5</td>\n",
       "    </tr>\n",
       "    <tr>\n",
       "      <th>1</th>\n",
       "      <td>Female</td>\n",
       "      <td>6.8</td>\n",
       "      <td>No</td>\n",
       "      <td>Urban</td>\n",
       "      <td>62.0</td>\n",
       "      <td>Primary</td>\n",
       "      <td>51.7</td>\n",
       "    </tr>\n",
       "    <tr>\n",
       "      <th>2</th>\n",
       "      <td>Female</td>\n",
       "      <td>9.7</td>\n",
       "      <td>No</td>\n",
       "      <td>Rural</td>\n",
       "      <td>95.0</td>\n",
       "      <td>Secondary</td>\n",
       "      <td>70.1</td>\n",
       "    </tr>\n",
       "    <tr>\n",
       "      <th>3</th>\n",
       "      <td>Male</td>\n",
       "      <td>13.3</td>\n",
       "      <td>Yes</td>\n",
       "      <td>Rural</td>\n",
       "      <td>52.9</td>\n",
       "      <td>NaN</td>\n",
       "      <td>79.5</td>\n",
       "    </tr>\n",
       "    <tr>\n",
       "      <th>4</th>\n",
       "      <td>Female</td>\n",
       "      <td>8.9</td>\n",
       "      <td>No</td>\n",
       "      <td>Urban</td>\n",
       "      <td>50.8</td>\n",
       "      <td>NaN</td>\n",
       "      <td>52.2</td>\n",
       "    </tr>\n",
       "  </tbody>\n",
       "</table>\n",
       "</div>"
      ],
      "text/plain": [
       "   Gender  HoursStudied/Week Tutoring Region  Attendance(%) Parent Education  \\\n",
       "0    Male                5.5       No  Urban           72.7         Tertiary   \n",
       "1  Female                6.8       No  Urban           62.0          Primary   \n",
       "2  Female                9.7       No  Rural           95.0        Secondary   \n",
       "3    Male               13.3      Yes  Rural           52.9              NaN   \n",
       "4  Female                8.9       No  Urban           50.8              NaN   \n",
       "\n",
       "   Exam_Score  \n",
       "0        43.5  \n",
       "1        51.7  \n",
       "2        70.1  \n",
       "3        79.5  \n",
       "4        52.2  "
      ]
     },
     "execution_count": 13,
     "metadata": {},
     "output_type": "execute_result"
    }
   ],
   "source": [
    "df = pd.read_csv('SAP-4000.csv')\n",
    "df.head()"
   ]
  },
  {
   "cell_type": "markdown",
   "id": "c1871519",
   "metadata": {},
   "source": [
    "## <b> <font color=green> STEP (2) Data Exploration & Understanding </font> </b>"
   ]
  },
  {
   "cell_type": "markdown",
   "id": "7d3c97bd",
   "metadata": {},
   "source": [
    "### 2.1) Descriptive Statistics\n",
    "Generate summary statistics for the dataset."
   ]
  },
  {
   "cell_type": "code",
   "execution_count": 14,
   "id": "7e06039e",
   "metadata": {},
   "outputs": [
    {
     "data": {
      "text/html": [
       "<div>\n",
       "<style scoped>\n",
       "    .dataframe tbody tr th:only-of-type {\n",
       "        vertical-align: middle;\n",
       "    }\n",
       "\n",
       "    .dataframe tbody tr th {\n",
       "        vertical-align: top;\n",
       "    }\n",
       "\n",
       "    .dataframe thead th {\n",
       "        text-align: right;\n",
       "    }\n",
       "</style>\n",
       "<table border=\"1\" class=\"dataframe\">\n",
       "  <thead>\n",
       "    <tr style=\"text-align: right;\">\n",
       "      <th></th>\n",
       "      <th>HoursStudied/Week</th>\n",
       "      <th>Attendance(%)</th>\n",
       "      <th>Exam_Score</th>\n",
       "    </tr>\n",
       "  </thead>\n",
       "  <tbody>\n",
       "    <tr>\n",
       "      <th>count</th>\n",
       "      <td>4000.000000</td>\n",
       "      <td>4000.000000</td>\n",
       "      <td>4000.000000</td>\n",
       "    </tr>\n",
       "    <tr>\n",
       "      <th>mean</th>\n",
       "      <td>9.861025</td>\n",
       "      <td>75.224150</td>\n",
       "      <td>71.107775</td>\n",
       "    </tr>\n",
       "    <tr>\n",
       "      <th>std</th>\n",
       "      <td>3.713801</td>\n",
       "      <td>14.496906</td>\n",
       "      <td>16.748950</td>\n",
       "    </tr>\n",
       "    <tr>\n",
       "      <th>min</th>\n",
       "      <td>0.000000</td>\n",
       "      <td>50.000000</td>\n",
       "      <td>16.600000</td>\n",
       "    </tr>\n",
       "    <tr>\n",
       "      <th>25%</th>\n",
       "      <td>7.400000</td>\n",
       "      <td>62.600000</td>\n",
       "      <td>59.300000</td>\n",
       "    </tr>\n",
       "    <tr>\n",
       "      <th>50%</th>\n",
       "      <td>9.900000</td>\n",
       "      <td>75.600000</td>\n",
       "      <td>71.550000</td>\n",
       "    </tr>\n",
       "    <tr>\n",
       "      <th>75%</th>\n",
       "      <td>12.600000</td>\n",
       "      <td>87.700000</td>\n",
       "      <td>83.500000</td>\n",
       "    </tr>\n",
       "    <tr>\n",
       "      <th>max</th>\n",
       "      <td>16.000000</td>\n",
       "      <td>100.000000</td>\n",
       "      <td>100.000000</td>\n",
       "    </tr>\n",
       "  </tbody>\n",
       "</table>\n",
       "</div>"
      ],
      "text/plain": [
       "       HoursStudied/Week  Attendance(%)   Exam_Score\n",
       "count        4000.000000    4000.000000  4000.000000\n",
       "mean            9.861025      75.224150    71.107775\n",
       "std             3.713801      14.496906    16.748950\n",
       "min             0.000000      50.000000    16.600000\n",
       "25%             7.400000      62.600000    59.300000\n",
       "50%             9.900000      75.600000    71.550000\n",
       "75%            12.600000      87.700000    83.500000\n",
       "max            16.000000     100.000000   100.000000"
      ]
     },
     "execution_count": 14,
     "metadata": {},
     "output_type": "execute_result"
    }
   ],
   "source": [
    "df.describe()"
   ]
  },
  {
   "cell_type": "markdown",
   "id": "63f9a23c",
   "metadata": {},
   "source": [
    "### 2.2) Data Visualizations\n",
    "Visualize the data to identify patterns and relationships."
   ]
  },
  {
   "cell_type": "code",
   "execution_count": null,
   "id": "d8c65ba0",
   "metadata": {},
   "outputs": [],
   "source": []
  },
  {
   "cell_type": "markdown",
   "id": "31a0d0c9",
   "metadata": {},
   "source": [
    "## <b> <font color=green> STEP (3) Data Preparation & Feature Engineering </font> </b>"
   ]
  },
  {
   "cell_type": "markdown",
   "id": "8066e13d",
   "metadata": {},
   "source": [
    "### 3.1) Data Cleaning\n",
    "Handle missing values and outliers."
   ]
  },
  {
   "cell_type": "code",
   "execution_count": null,
   "id": "786dbe9d",
   "metadata": {},
   "outputs": [],
   "source": []
  },
  {
   "cell_type": "markdown",
   "id": "8dc52137",
   "metadata": {},
   "source": [
    "### 3.1) Feature Selection\n",
    "Select the most relevant features for the model."
   ]
  },
  {
   "cell_type": "code",
   "execution_count": null,
   "id": "0cec423a",
   "metadata": {},
   "outputs": [],
   "source": []
  },
  {
   "cell_type": "markdown",
   "id": "6c07b048",
   "metadata": {},
   "source": [
    "### 3.2) Data Transforms\n",
    "Apply transformations to prepare the data for modeling."
   ]
  },
  {
   "cell_type": "code",
   "execution_count": null,
   "id": "759c41b7",
   "metadata": {},
   "outputs": [],
   "source": []
  },
  {
   "cell_type": "markdown",
   "id": "43084664",
   "metadata": {},
   "source": [
    "## <b> <font color=green> STEP (4)  ML Model Selection & Evaluation </font> </b>"
   ]
  },
  {
   "cell_type": "markdown",
   "id": "e35c7064",
   "metadata": {},
   "source": [
    "### 4.1) Split-out Validation Dataset\n",
    "Split the dataset into training and validation sets."
   ]
  },
  {
   "cell_type": "code",
   "execution_count": null,
   "id": "2c076b1f",
   "metadata": {},
   "outputs": [],
   "source": []
  },
  {
   "cell_type": "markdown",
   "id": "60b86d53",
   "metadata": {},
   "source": [
    "### 4.2) Test Options and Evaluation Metric\n",
    "Define the evaluation metric for the model."
   ]
  },
  {
   "cell_type": "code",
   "execution_count": null,
   "id": "8886c258",
   "metadata": {},
   "outputs": [],
   "source": []
  },
  {
   "cell_type": "markdown",
   "id": "83d865b5",
   "metadata": {},
   "source": [
    "### 4.3) Spot Check Algorithms\n",
    "Test multiple algorithms to identify the best-performing one."
   ]
  },
  {
   "cell_type": "code",
   "execution_count": null,
   "id": "f48e912b",
   "metadata": {},
   "outputs": [],
   "source": []
  },
  {
   "cell_type": "markdown",
   "id": "344d39b6",
   "metadata": {},
   "source": [
    "## <b> <font color=green> STEP (4)  Performance Tuning & Optimization </font> </b>"
   ]
  },
  {
   "cell_type": "markdown",
   "id": "315aa69b",
   "metadata": {},
   "source": [
    "### 4.1) Algorithm Tuning\n",
    "Optimize hyperparameters for better performance."
   ]
  },
  {
   "cell_type": "code",
   "execution_count": null,
   "id": "83d48c53",
   "metadata": {},
   "outputs": [],
   "source": []
  },
  {
   "cell_type": "markdown",
   "id": "aa0df54e",
   "metadata": {},
   "source": [
    "### 4.2) Ensembles\n",
    "Combine multiple models to improve accuracy."
   ]
  },
  {
   "cell_type": "code",
   "execution_count": null,
   "id": "051d3e66",
   "metadata": {},
   "outputs": [],
   "source": []
  },
  {
   "cell_type": "markdown",
   "id": "8e47ea8f",
   "metadata": {},
   "source": [
    "## <b> <font color=green> STEP (6) Results Interpretation & Deployment </font> </b>"
   ]
  },
  {
   "cell_type": "markdown",
   "id": "174a8e5e",
   "metadata": {},
   "source": [
    "### 6.1) Predictions on Validation Dataset\n",
    "Make predictions using the validation dataset."
   ]
  },
  {
   "cell_type": "code",
   "execution_count": null,
   "id": "02e4a721",
   "metadata": {},
   "outputs": [],
   "source": []
  },
  {
   "cell_type": "markdown",
   "id": "61b25dc3",
   "metadata": {},
   "source": [
    "### 6.2) Create Standalone Model on Entire Training Dataset\n",
    "Train the final model on the entire dataset."
   ]
  },
  {
   "cell_type": "code",
   "execution_count": null,
   "id": "e4650c5a",
   "metadata": {},
   "outputs": [],
   "source": []
  },
  {
   "cell_type": "markdown",
   "id": "3ce4fee2",
   "metadata": {},
   "source": [
    "### 6.3) Save Model for Later Use\n",
    "Save the trained model to a file."
   ]
  },
  {
   "cell_type": "code",
   "execution_count": null,
   "id": "f99b4d98",
   "metadata": {},
   "outputs": [],
   "source": []
  }
 ],
 "metadata": {
  "kernelspec": {
   "display_name": "Python 3 (ipykernel)",
   "language": "python",
   "name": "python3"
  },
  "language_info": {
   "codemirror_mode": {
    "name": "ipython",
    "version": 3
   },
   "file_extension": ".py",
   "mimetype": "text/x-python",
   "name": "python",
   "nbconvert_exporter": "python",
   "pygments_lexer": "ipython3",
   "version": "3.13.2"
  }
 },
 "nbformat": 4,
 "nbformat_minor": 5
}
