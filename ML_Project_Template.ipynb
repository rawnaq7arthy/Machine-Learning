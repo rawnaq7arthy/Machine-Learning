{
 "cells": [
  {
   "cell_type": "markdown",
   "id": "de442506",
   "metadata": {},
   "source": [
    "# Machine Learning Project Template\n",
    "* This notebook provides a structured template for building an end-to-end machine learning project.\n",
    "* Re-use this notebook througout your learning and in capstone project"
   ]
  },
  {
   "cell_type": "markdown",
   "id": "e0d85653",
   "metadata": {},
   "source": [
    "## <b> <font color=green> STEP (1) Problem Definition, Scoping & Framing </font> </b>"
   ]
  },
  {
   "cell_type": "markdown",
   "id": "96c4b4ec",
   "metadata": {},
   "source": [
    "### 1.1) Load Libraries\n",
    "Import all necessary libraries for the project."
   ]
  },
  {
   "cell_type": "code",
   "execution_count": 6,
   "id": "e9bf752e",
   "metadata": {},
   "outputs": [
    {
     "name": "stdout",
     "output_type": "stream",
     "text": [
      "Requirement already satisfied: pandas in /home/rawnaqalharthy/.local/lib/python3.8/site-packages (2.0.3)\n",
      "Requirement already satisfied: tzdata>=2022.1 in /home/rawnaqalharthy/.local/lib/python3.8/site-packages (from pandas) (2025.2)\n",
      "Requirement already satisfied: numpy>=1.20.3; python_version < \"3.10\" in /home/rawnaqalharthy/.local/lib/python3.8/site-packages (from pandas) (1.24.4)\n",
      "Requirement already satisfied: pytz>=2020.1 in /home/rawnaqalharthy/.local/lib/python3.8/site-packages (from pandas) (2025.2)\n",
      "Requirement already satisfied: python-dateutil>=2.8.2 in /home/rawnaqalharthy/.local/lib/python3.8/site-packages (from pandas) (2.9.0.post0)\n",
      "Requirement already satisfied: six>=1.5 in /home/rawnaqalharthy/.local/lib/python3.8/site-packages (from python-dateutil>=2.8.2->pandas) (1.17.0)\n"
     ]
    }
   ],
   "source": [
    "!pip install pandas\n",
    "import pandas as pd"
   ]
  },
  {
   "cell_type": "markdown",
   "id": "f5dfbd75",
   "metadata": {},
   "source": [
    "### 1.2) Load The Dataset\n",
    "Load the dataset and display the first few rows."
   ]
  },
  {
   "cell_type": "code",
   "execution_count": 7,
   "id": "698af009",
   "metadata": {},
   "outputs": [
    {
     "data": {
      "text/html": [
       "<div>\n",
       "<style scoped>\n",
       "    .dataframe tbody tr th:only-of-type {\n",
       "        vertical-align: middle;\n",
       "    }\n",
       "\n",
       "    .dataframe tbody tr th {\n",
       "        vertical-align: top;\n",
       "    }\n",
       "\n",
       "    .dataframe thead th {\n",
       "        text-align: right;\n",
       "    }\n",
       "</style>\n",
       "<table border=\"1\" class=\"dataframe\">\n",
       "  <thead>\n",
       "    <tr style=\"text-align: right;\">\n",
       "      <th></th>\n",
       "      <th>Gender</th>\n",
       "      <th>HoursStudied/Week</th>\n",
       "      <th>Tutoring</th>\n",
       "      <th>Region</th>\n",
       "      <th>Attendance(%)</th>\n",
       "      <th>Parent Education</th>\n",
       "      <th>Exam_Score</th>\n",
       "    </tr>\n",
       "  </thead>\n",
       "  <tbody>\n",
       "    <tr>\n",
       "      <th>0</th>\n",
       "      <td>Male</td>\n",
       "      <td>5.5</td>\n",
       "      <td>No</td>\n",
       "      <td>Urban</td>\n",
       "      <td>72.7</td>\n",
       "      <td>Tertiary</td>\n",
       "      <td>43.5</td>\n",
       "    </tr>\n",
       "    <tr>\n",
       "      <th>1</th>\n",
       "      <td>Female</td>\n",
       "      <td>6.8</td>\n",
       "      <td>No</td>\n",
       "      <td>Urban</td>\n",
       "      <td>62.0</td>\n",
       "      <td>Primary</td>\n",
       "      <td>51.7</td>\n",
       "    </tr>\n",
       "    <tr>\n",
       "      <th>2</th>\n",
       "      <td>Female</td>\n",
       "      <td>9.7</td>\n",
       "      <td>No</td>\n",
       "      <td>Rural</td>\n",
       "      <td>95.0</td>\n",
       "      <td>Secondary</td>\n",
       "      <td>70.1</td>\n",
       "    </tr>\n",
       "    <tr>\n",
       "      <th>3</th>\n",
       "      <td>Male</td>\n",
       "      <td>13.3</td>\n",
       "      <td>Yes</td>\n",
       "      <td>Rural</td>\n",
       "      <td>52.9</td>\n",
       "      <td>NaN</td>\n",
       "      <td>79.5</td>\n",
       "    </tr>\n",
       "    <tr>\n",
       "      <th>4</th>\n",
       "      <td>Female</td>\n",
       "      <td>8.9</td>\n",
       "      <td>No</td>\n",
       "      <td>Urban</td>\n",
       "      <td>50.8</td>\n",
       "      <td>NaN</td>\n",
       "      <td>52.2</td>\n",
       "    </tr>\n",
       "  </tbody>\n",
       "</table>\n",
       "</div>"
      ],
      "text/plain": [
       "   Gender  HoursStudied/Week Tutoring Region  Attendance(%) Parent Education  \\\n",
       "0    Male                5.5       No  Urban           72.7         Tertiary   \n",
       "1  Female                6.8       No  Urban           62.0          Primary   \n",
       "2  Female                9.7       No  Rural           95.0        Secondary   \n",
       "3    Male               13.3      Yes  Rural           52.9              NaN   \n",
       "4  Female                8.9       No  Urban           50.8              NaN   \n",
       "\n",
       "   Exam_Score  \n",
       "0        43.5  \n",
       "1        51.7  \n",
       "2        70.1  \n",
       "3        79.5  \n",
       "4        52.2  "
      ]
     },
     "execution_count": 7,
     "metadata": {},
     "output_type": "execute_result"
    }
   ],
   "source": [
    "df = pd.read_csv('SAP-4000.csv')\n",
    "df.head()"
   ]
  },
  {
   "cell_type": "markdown",
   "id": "c1871519",
   "metadata": {},
   "source": [
    "## <b> <font color=green> STEP (2) Data Exploration & Understanding </font> </b>"
   ]
  },
  {
   "cell_type": "markdown",
   "id": "7d3c97bd",
   "metadata": {},
   "source": [
    "### 2.1) Descriptive Statistics\n",
    "Generate summary statistics for the dataset."
   ]
  },
  {
   "cell_type": "code",
   "execution_count": null,
   "id": "7e06039e",
   "metadata": {},
   "outputs": [],
   "source": []
  },
  {
   "cell_type": "markdown",
   "id": "63f9a23c",
   "metadata": {},
   "source": [
    "### 2.2) Data Visualizations\n",
    "Visualize the data to identify patterns and relationships."
   ]
  },
  {
   "cell_type": "code",
   "execution_count": null,
   "id": "d8c65ba0",
   "metadata": {},
   "outputs": [],
   "source": []
  },
  {
   "cell_type": "markdown",
   "id": "31a0d0c9",
   "metadata": {},
   "source": [
    "## <b> <font color=green> STEP (3) Data Preparation & Feature Engineering </font> </b>"
   ]
  },
  {
   "cell_type": "markdown",
   "id": "8066e13d",
   "metadata": {},
   "source": [
    "### 3.1) Data Cleaning\n",
    "Handle missing values and outliers."
   ]
  },
  {
   "cell_type": "code",
   "execution_count": null,
   "id": "786dbe9d",
   "metadata": {},
   "outputs": [],
   "source": []
  },
  {
   "cell_type": "markdown",
   "id": "8dc52137",
   "metadata": {},
   "source": [
    "### 3.1) Feature Selection\n",
    "Select the most relevant features for the model."
   ]
  },
  {
   "cell_type": "code",
   "execution_count": null,
   "id": "0cec423a",
   "metadata": {},
   "outputs": [],
   "source": []
  },
  {
   "cell_type": "markdown",
   "id": "6c07b048",
   "metadata": {},
   "source": [
    "### 3.2) Data Transforms\n",
    "Apply transformations to prepare the data for modeling."
   ]
  },
  {
   "cell_type": "code",
   "execution_count": null,
   "id": "759c41b7",
   "metadata": {},
   "outputs": [],
   "source": []
  },
  {
   "cell_type": "markdown",
   "id": "43084664",
   "metadata": {},
   "source": [
    "## <b> <font color=green> STEP (4)  ML Model Selection & Evaluation </font> </b>"
   ]
  },
  {
   "cell_type": "markdown",
   "id": "e35c7064",
   "metadata": {},
   "source": [
    "### 4.1) Split-out Validation Dataset\n",
    "Split the dataset into training and validation sets."
   ]
  },
  {
   "cell_type": "code",
   "execution_count": null,
   "id": "2c076b1f",
   "metadata": {},
   "outputs": [],
   "source": []
  },
  {
   "cell_type": "markdown",
   "id": "60b86d53",
   "metadata": {},
   "source": [
    "### 4.2) Test Options and Evaluation Metric\n",
    "Define the evaluation metric for the model."
   ]
  },
  {
   "cell_type": "code",
   "execution_count": null,
   "id": "8886c258",
   "metadata": {},
   "outputs": [],
   "source": []
  },
  {
   "cell_type": "markdown",
   "id": "83d865b5",
   "metadata": {},
   "source": [
    "### 4.3) Spot Check Algorithms\n",
    "Test multiple algorithms to identify the best-performing one."
   ]
  },
  {
   "cell_type": "code",
   "execution_count": null,
   "id": "f48e912b",
   "metadata": {},
   "outputs": [],
   "source": []
  },
  {
   "cell_type": "markdown",
   "id": "344d39b6",
   "metadata": {},
   "source": [
    "## <b> <font color=green> STEP (4)  Performance Tuning & Optimization </font> </b>"
   ]
  },
  {
   "cell_type": "markdown",
   "id": "315aa69b",
   "metadata": {},
   "source": [
    "### 4.1) Algorithm Tuning\n",
    "Optimize hyperparameters for better performance."
   ]
  },
  {
   "cell_type": "code",
   "execution_count": null,
   "id": "83d48c53",
   "metadata": {},
   "outputs": [],
   "source": []
  },
  {
   "cell_type": "markdown",
   "id": "aa0df54e",
   "metadata": {},
   "source": [
    "### 4.2) Ensembles\n",
    "Combine multiple models to improve accuracy."
   ]
  },
  {
   "cell_type": "code",
   "execution_count": null,
   "id": "051d3e66",
   "metadata": {},
   "outputs": [],
   "source": []
  },
  {
   "cell_type": "markdown",
   "id": "8e47ea8f",
   "metadata": {},
   "source": [
    "## <b> <font color=green> STEP (6) Results Interpretation & Deployment </font> </b>"
   ]
  },
  {
   "cell_type": "markdown",
   "id": "174a8e5e",
   "metadata": {},
   "source": [
    "### 6.1) Predictions on Validation Dataset\n",
    "Make predictions using the validation dataset."
   ]
  },
  {
   "cell_type": "code",
   "execution_count": null,
   "id": "02e4a721",
   "metadata": {},
   "outputs": [],
   "source": []
  },
  {
   "cell_type": "markdown",
   "id": "61b25dc3",
   "metadata": {},
   "source": [
    "### 6.2) Create Standalone Model on Entire Training Dataset\n",
    "Train the final model on the entire dataset."
   ]
  },
  {
   "cell_type": "code",
   "execution_count": null,
   "id": "e4650c5a",
   "metadata": {},
   "outputs": [],
   "source": []
  },
  {
   "cell_type": "markdown",
   "id": "3ce4fee2",
   "metadata": {},
   "source": [
    "### 6.3) Save Model for Later Use\n",
    "Save the trained model to a file."
   ]
  },
  {
   "cell_type": "code",
   "execution_count": null,
   "id": "f99b4d98",
   "metadata": {},
   "outputs": [],
   "source": []
  }
 ],
 "metadata": {
  "kernelspec": {
   "display_name": "Python 3 (ipykernel)",
   "language": "python",
   "name": "python3"
  },
  "language_info": {
   "codemirror_mode": {
    "name": "ipython",
    "version": 3
   },
   "file_extension": ".py",
   "mimetype": "text/x-python",
   "name": "python",
   "nbconvert_exporter": "python",
   "pygments_lexer": "ipython3",
   "version": "3.13.2"
  }
 },
 "nbformat": 4,
 "nbformat_minor": 5
}
